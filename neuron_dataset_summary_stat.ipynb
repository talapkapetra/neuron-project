{
 "cells": [
  {
   "cell_type": "markdown",
   "id": "7a17af52-2802-48dc-99fc-5d56b4a25aaa",
   "metadata": {},
   "source": [
    "### Load necessary libraries"
   ]
  },
  {
   "cell_type": "code",
   "execution_count": 1,
   "id": "f10517ca-d578-4271-871d-276f06c83a45",
   "metadata": {},
   "outputs": [],
   "source": [
    "import pandas as pd\n",
    "import numpy as np\n",
    "import plotly.express as px\n",
    "from scipy import stats\n",
    "from scipy.stats import shapiro\n",
    "from scipy.stats import f_oneway, ttest_ind\n",
    "import matplotlib.pyplot as plt\n",
    "import seaborn as sns\n",
    "import matplotlib.patches as mpatches\n",
    "from matplotlib import *\n",
    "import matplotlib.colors as mcolors\n",
    "from scipy.stats import kruskal\n",
    "import scikit_posthocs as sp\n",
    "from scipy.stats import mannwhitneyu\n",
    "import PyNonpar\n",
    "from PyNonpar.twosample import wilcoxon_mann_whitney_test\n",
    "from scipy.stats import f_oneway\n",
    "import statsmodels.api as sm\n",
    "from statsmodels.stats.multicomp import pairwise_tukeyhsd\n",
    "from statsmodels.formula.api import ols\n",
    "from statsmodels.stats.multicomp import MultiComparison\n",
    "from matplotlib import ticker\n",
    "import warnings"
   ]
  },
  {
   "cell_type": "markdown",
   "id": "9cae9f9c-4444-47e4-b1ac-bc2d22edcf29",
   "metadata": {},
   "source": [
    "### Load data from the csv files into a DataFrames"
   ]
  },
  {
   "cell_type": "code",
   "execution_count": 2,
   "id": "7b8612a6-490f-43ad-be46-a69335bbca63",
   "metadata": {},
   "outputs": [],
   "source": [
    "# For the summary statistics only data collected after compression corrections were used.\n",
    "\n",
    "CB_den1_bouton = pd.read_csv('CB_den1_after_shrink_bouton.csv')\n",
    "CB_den1_synapse = pd.read_csv('CB_den1_after_shrink_synapse.csv')\n",
    "CB_den2_bouton = pd.read_csv('CB_den2_after_shrink_bouton.csv')\n",
    "CB_den2_synapse = pd.read_csv('CB_den2_after_shrink_synapse.csv')\n",
    "CB_den3_bouton = pd.read_csv('CB_den3_after_shrink_bouton.csv')\n",
    "CB_den3_synapse = pd.read_csv('CB_den3_after_shrink_synapse.csv')\n",
    "\n",
    "CR_den1_bouton = pd.read_csv('CR_den1_after_shrink_bouton.csv')\n",
    "CR_den1_synapse = pd.read_csv('CR_den1_after_shrink_synapse.csv')\n",
    "CR_den2_bouton = pd.read_csv('CR_den2_after_shrink_bouton.csv')\n",
    "CR_den2_synapse = pd.read_csv('CR_den2_after_shrink_synapse.csv')\n",
    "CR_den3_bouton = pd.read_csv('CR_den3_after_shrink_bouton.csv')\n",
    "CR_den3_synapse = pd.read_csv('CR_den3_after_shrink_synapse.csv')\n",
    "\n",
    "PV_den1_bouton = pd.read_csv('PV_den1_after_shrink_bouton.csv')\n",
    "PV_den1_synapse = pd.read_csv('PV_den1_after_shrink_synapse.csv')\n",
    "PV_den2_bouton = pd.read_csv('PV_den2_after_shrink_bouton.csv')\n",
    "PV_den2_synapse = pd.read_csv('PV_den2_after_shrink_synapse.csv')\n",
    "PV_den3_bouton = pd.read_csv('PV_den3_after_shrink_bouton.csv')\n",
    "PV_den3_synapse = pd.read_csv('PV_den3_after_shrink_synapse.csv')"
   ]
  },
  {
   "cell_type": "code",
   "execution_count": 3,
   "id": "3efe2663-35b1-4e94-a12f-b85777712468",
   "metadata": {},
   "outputs": [
    {
     "data": {
      "text/html": [
       "<div>\n",
       "<style scoped>\n",
       "    .dataframe tbody tr th:only-of-type {\n",
       "        vertical-align: middle;\n",
       "    }\n",
       "\n",
       "    .dataframe tbody tr th {\n",
       "        vertical-align: top;\n",
       "    }\n",
       "\n",
       "    .dataframe thead th {\n",
       "        text-align: right;\n",
       "    }\n",
       "</style>\n",
       "<table border=\"1\" class=\"dataframe\">\n",
       "  <thead>\n",
       "    <tr style=\"text-align: right;\">\n",
       "      <th></th>\n",
       "      <th>bouton_number</th>\n",
       "      <th>location</th>\n",
       "      <th>comment</th>\n",
       "      <th>surface_area_micron^2</th>\n",
       "      <th>volume_micron^3</th>\n",
       "    </tr>\n",
       "  </thead>\n",
       "  <tbody>\n",
       "    <tr>\n",
       "      <th>0</th>\n",
       "      <td>b1</td>\n",
       "      <td>shaft</td>\n",
       "      <td>NaN</td>\n",
       "      <td>2.420002</td>\n",
       "      <td>0.286752</td>\n",
       "    </tr>\n",
       "    <tr>\n",
       "      <th>1</th>\n",
       "      <td>b2</td>\n",
       "      <td>shaft</td>\n",
       "      <td>NaN</td>\n",
       "      <td>1.510073</td>\n",
       "      <td>0.120455</td>\n",
       "    </tr>\n",
       "    <tr>\n",
       "      <th>2</th>\n",
       "      <td>b3</td>\n",
       "      <td>shaft</td>\n",
       "      <td>NaN</td>\n",
       "      <td>1.827364</td>\n",
       "      <td>0.257001</td>\n",
       "    </tr>\n",
       "    <tr>\n",
       "      <th>3</th>\n",
       "      <td>b4</td>\n",
       "      <td>branch1</td>\n",
       "      <td>*partial</td>\n",
       "      <td>NaN</td>\n",
       "      <td>NaN</td>\n",
       "    </tr>\n",
       "    <tr>\n",
       "      <th>4</th>\n",
       "      <td>b5</td>\n",
       "      <td>shaft</td>\n",
       "      <td>NaN</td>\n",
       "      <td>2.487303</td>\n",
       "      <td>0.203978</td>\n",
       "    </tr>\n",
       "  </tbody>\n",
       "</table>\n",
       "</div>"
      ],
      "text/plain": [
       "  bouton_number location   comment  surface_area_micron^2  volume_micron^3\n",
       "0            b1    shaft       NaN               2.420002         0.286752\n",
       "1            b2    shaft       NaN               1.510073         0.120455\n",
       "2            b3    shaft       NaN               1.827364         0.257001\n",
       "3            b4  branch1  *partial                    NaN              NaN\n",
       "4            b5    shaft       NaN               2.487303         0.203978"
      ]
     },
     "execution_count": 3,
     "metadata": {},
     "output_type": "execute_result"
    }
   ],
   "source": [
    "CB_den1_bouton.head()"
   ]
  },
  {
   "cell_type": "code",
   "execution_count": 4,
   "id": "436b9cdc-6af3-48f5-b6f6-799ba4144f78",
   "metadata": {},
   "outputs": [
    {
     "data": {
      "text/html": [
       "<div>\n",
       "<style scoped>\n",
       "    .dataframe tbody tr th:only-of-type {\n",
       "        vertical-align: middle;\n",
       "    }\n",
       "\n",
       "    .dataframe tbody tr th {\n",
       "        vertical-align: top;\n",
       "    }\n",
       "\n",
       "    .dataframe thead th {\n",
       "        text-align: right;\n",
       "    }\n",
       "</style>\n",
       "<table border=\"1\" class=\"dataframe\">\n",
       "  <thead>\n",
       "    <tr style=\"text-align: right;\">\n",
       "      <th></th>\n",
       "      <th>bouton_number</th>\n",
       "      <th>synapse_number</th>\n",
       "      <th>surface_area_micron^2</th>\n",
       "      <th>distance_from_soma_micron</th>\n",
       "    </tr>\n",
       "  </thead>\n",
       "  <tbody>\n",
       "    <tr>\n",
       "      <th>0</th>\n",
       "      <td>b1</td>\n",
       "      <td>as1</td>\n",
       "      <td>0.049045</td>\n",
       "      <td>5.050980</td>\n",
       "    </tr>\n",
       "    <tr>\n",
       "      <th>1</th>\n",
       "      <td>b2</td>\n",
       "      <td>as2</td>\n",
       "      <td>0.101529</td>\n",
       "      <td>5.503922</td>\n",
       "    </tr>\n",
       "    <tr>\n",
       "      <th>2</th>\n",
       "      <td>b3</td>\n",
       "      <td>as3</td>\n",
       "      <td>0.045333</td>\n",
       "      <td>7.127451</td>\n",
       "    </tr>\n",
       "    <tr>\n",
       "      <th>3</th>\n",
       "      <td>b4</td>\n",
       "      <td>ss1</td>\n",
       "      <td>NaN</td>\n",
       "      <td>NaN</td>\n",
       "    </tr>\n",
       "    <tr>\n",
       "      <th>4</th>\n",
       "      <td>b5</td>\n",
       "      <td>as4</td>\n",
       "      <td>0.199113</td>\n",
       "      <td>10.153922</td>\n",
       "    </tr>\n",
       "  </tbody>\n",
       "</table>\n",
       "</div>"
      ],
      "text/plain": [
       "  bouton_number synapse_number  surface_area_micron^2  \\\n",
       "0            b1            as1               0.049045   \n",
       "1            b2            as2               0.101529   \n",
       "2            b3            as3               0.045333   \n",
       "3            b4            ss1                    NaN   \n",
       "4            b5            as4               0.199113   \n",
       "\n",
       "   distance_from_soma_micron  \n",
       "0                   5.050980  \n",
       "1                   5.503922  \n",
       "2                   7.127451  \n",
       "3                        NaN  \n",
       "4                  10.153922  "
      ]
     },
     "execution_count": 4,
     "metadata": {},
     "output_type": "execute_result"
    }
   ],
   "source": [
    "CB_den1_synapse.head()"
   ]
  },
  {
   "cell_type": "markdown",
   "id": "e3bcc1d7-81e2-4016-8009-84474ed51d77",
   "metadata": {},
   "source": [
    "### Reorganizing dataframes to prepare for statistical analysis"
   ]
  },
  {
   "cell_type": "code",
   "execution_count": 5,
   "id": "c5f0bef4-c1f4-4a6b-9109-29a0cbe3363a",
   "metadata": {},
   "outputs": [],
   "source": [
    "# Add a new column 'marker' for identification\n",
    "\n",
    "CB_den1_bouton['marker'] = 'calbindin'\n",
    "CB_den1_synapse['marker'] = 'calbindin'\n",
    "CB_den2_bouton['marker'] = 'calbindin'\n",
    "CB_den2_synapse['marker'] = 'calbindin'\n",
    "CB_den3_bouton['marker'] = 'calbindin'\n",
    "CB_den3_synapse['marker'] = 'calbindin'\n",
    "\n",
    "CR_den1_bouton['marker'] = 'calretinin'\n",
    "CR_den1_synapse['marker'] = 'calretinin'\n",
    "CR_den2_bouton['marker'] = 'calretinin'\n",
    "CR_den2_synapse['marker'] = 'calretinin'\n",
    "CR_den3_bouton['marker'] = 'calretinin'\n",
    "CR_den3_synapse['marker'] = 'calretinin'\n",
    "\n",
    "PV_den1_bouton['marker'] = 'parvalbumin'\n",
    "PV_den1_synapse['marker'] = 'parvalbumin'\n",
    "PV_den2_bouton['marker'] = 'parvalbumin'\n",
    "PV_den2_synapse['marker'] = 'parvalbumin'\n",
    "PV_den3_bouton['marker'] = 'parvalbumin'\n",
    "PV_den3_synapse['marker'] = 'parvalbumin'"
   ]
  },
  {
   "cell_type": "code",
   "execution_count": 6,
   "id": "43f28a48-c71e-4ecc-beca-7b616534811c",
   "metadata": {},
   "outputs": [
    {
     "data": {
      "text/html": [
       "<div>\n",
       "<style scoped>\n",
       "    .dataframe tbody tr th:only-of-type {\n",
       "        vertical-align: middle;\n",
       "    }\n",
       "\n",
       "    .dataframe tbody tr th {\n",
       "        vertical-align: top;\n",
       "    }\n",
       "\n",
       "    .dataframe thead th {\n",
       "        text-align: right;\n",
       "    }\n",
       "</style>\n",
       "<table border=\"1\" class=\"dataframe\">\n",
       "  <thead>\n",
       "    <tr style=\"text-align: right;\">\n",
       "      <th></th>\n",
       "      <th>bouton_number</th>\n",
       "      <th>location</th>\n",
       "      <th>comment</th>\n",
       "      <th>surface_area_micron^2</th>\n",
       "      <th>volume_micron^3</th>\n",
       "      <th>marker</th>\n",
       "    </tr>\n",
       "  </thead>\n",
       "  <tbody>\n",
       "    <tr>\n",
       "      <th>0</th>\n",
       "      <td>b1</td>\n",
       "      <td>shaft</td>\n",
       "      <td>NaN</td>\n",
       "      <td>2.420002</td>\n",
       "      <td>0.286752</td>\n",
       "      <td>calbindin</td>\n",
       "    </tr>\n",
       "    <tr>\n",
       "      <th>1</th>\n",
       "      <td>b2</td>\n",
       "      <td>shaft</td>\n",
       "      <td>NaN</td>\n",
       "      <td>1.510073</td>\n",
       "      <td>0.120455</td>\n",
       "      <td>calbindin</td>\n",
       "    </tr>\n",
       "    <tr>\n",
       "      <th>2</th>\n",
       "      <td>b3</td>\n",
       "      <td>shaft</td>\n",
       "      <td>NaN</td>\n",
       "      <td>1.827364</td>\n",
       "      <td>0.257001</td>\n",
       "      <td>calbindin</td>\n",
       "    </tr>\n",
       "    <tr>\n",
       "      <th>3</th>\n",
       "      <td>b4</td>\n",
       "      <td>branch1</td>\n",
       "      <td>*partial</td>\n",
       "      <td>NaN</td>\n",
       "      <td>NaN</td>\n",
       "      <td>calbindin</td>\n",
       "    </tr>\n",
       "    <tr>\n",
       "      <th>4</th>\n",
       "      <td>b5</td>\n",
       "      <td>shaft</td>\n",
       "      <td>NaN</td>\n",
       "      <td>2.487303</td>\n",
       "      <td>0.203978</td>\n",
       "      <td>calbindin</td>\n",
       "    </tr>\n",
       "  </tbody>\n",
       "</table>\n",
       "</div>"
      ],
      "text/plain": [
       "  bouton_number location   comment  surface_area_micron^2  volume_micron^3  \\\n",
       "0            b1    shaft       NaN               2.420002         0.286752   \n",
       "1            b2    shaft       NaN               1.510073         0.120455   \n",
       "2            b3    shaft       NaN               1.827364         0.257001   \n",
       "3            b4  branch1  *partial                    NaN              NaN   \n",
       "4            b5    shaft       NaN               2.487303         0.203978   \n",
       "\n",
       "      marker  \n",
       "0  calbindin  \n",
       "1  calbindin  \n",
       "2  calbindin  \n",
       "3  calbindin  \n",
       "4  calbindin  "
      ]
     },
     "execution_count": 6,
     "metadata": {},
     "output_type": "execute_result"
    }
   ],
   "source": [
    "CB_den1_bouton.head()"
   ]
  },
  {
   "cell_type": "code",
   "execution_count": 7,
   "id": "80c820da-0995-4f92-bb48-be0a8f33119c",
   "metadata": {},
   "outputs": [
    {
     "data": {
      "text/html": [
       "<div>\n",
       "<style scoped>\n",
       "    .dataframe tbody tr th:only-of-type {\n",
       "        vertical-align: middle;\n",
       "    }\n",
       "\n",
       "    .dataframe tbody tr th {\n",
       "        vertical-align: top;\n",
       "    }\n",
       "\n",
       "    .dataframe thead th {\n",
       "        text-align: right;\n",
       "    }\n",
       "</style>\n",
       "<table border=\"1\" class=\"dataframe\">\n",
       "  <thead>\n",
       "    <tr style=\"text-align: right;\">\n",
       "      <th></th>\n",
       "      <th>bouton_number</th>\n",
       "      <th>location</th>\n",
       "      <th>comment</th>\n",
       "      <th>surface_area_micron^2</th>\n",
       "      <th>volume_micron^3</th>\n",
       "      <th>marker</th>\n",
       "    </tr>\n",
       "  </thead>\n",
       "  <tbody>\n",
       "    <tr>\n",
       "      <th>0</th>\n",
       "      <td>b1</td>\n",
       "      <td>NaN</td>\n",
       "      <td>NaN</td>\n",
       "      <td>1.792631</td>\n",
       "      <td>0.156600</td>\n",
       "      <td>calretinin</td>\n",
       "    </tr>\n",
       "    <tr>\n",
       "      <th>1</th>\n",
       "      <td>b2</td>\n",
       "      <td>NaN</td>\n",
       "      <td>NaN</td>\n",
       "      <td>3.131823</td>\n",
       "      <td>0.346040</td>\n",
       "      <td>calretinin</td>\n",
       "    </tr>\n",
       "    <tr>\n",
       "      <th>2</th>\n",
       "      <td>b3</td>\n",
       "      <td>NaN</td>\n",
       "      <td>NaN</td>\n",
       "      <td>0.609929</td>\n",
       "      <td>0.036171</td>\n",
       "      <td>calretinin</td>\n",
       "    </tr>\n",
       "    <tr>\n",
       "      <th>3</th>\n",
       "      <td>b4</td>\n",
       "      <td>NaN</td>\n",
       "      <td>NaN</td>\n",
       "      <td>1.244231</td>\n",
       "      <td>0.126382</td>\n",
       "      <td>calretinin</td>\n",
       "    </tr>\n",
       "    <tr>\n",
       "      <th>4</th>\n",
       "      <td>b5</td>\n",
       "      <td>NaN</td>\n",
       "      <td>NaN</td>\n",
       "      <td>0.756150</td>\n",
       "      <td>0.063169</td>\n",
       "      <td>calretinin</td>\n",
       "    </tr>\n",
       "  </tbody>\n",
       "</table>\n",
       "</div>"
      ],
      "text/plain": [
       "  bouton_number location  comment  surface_area_micron^2  volume_micron^3  \\\n",
       "0            b1      NaN      NaN               1.792631         0.156600   \n",
       "1            b2      NaN      NaN               3.131823         0.346040   \n",
       "2            b3      NaN      NaN               0.609929         0.036171   \n",
       "3            b4      NaN      NaN               1.244231         0.126382   \n",
       "4            b5      NaN      NaN               0.756150         0.063169   \n",
       "\n",
       "       marker  \n",
       "0  calretinin  \n",
       "1  calretinin  \n",
       "2  calretinin  \n",
       "3  calretinin  \n",
       "4  calretinin  "
      ]
     },
     "execution_count": 7,
     "metadata": {},
     "output_type": "execute_result"
    }
   ],
   "source": [
    "CR_den1_bouton.head()"
   ]
  },
  {
   "cell_type": "code",
   "execution_count": 8,
   "id": "ff6604a9-e713-43c5-818e-85ef574ac73a",
   "metadata": {},
   "outputs": [
    {
     "data": {
      "text/html": [
       "<div>\n",
       "<style scoped>\n",
       "    .dataframe tbody tr th:only-of-type {\n",
       "        vertical-align: middle;\n",
       "    }\n",
       "\n",
       "    .dataframe tbody tr th {\n",
       "        vertical-align: top;\n",
       "    }\n",
       "\n",
       "    .dataframe thead th {\n",
       "        text-align: right;\n",
       "    }\n",
       "</style>\n",
       "<table border=\"1\" class=\"dataframe\">\n",
       "  <thead>\n",
       "    <tr style=\"text-align: right;\">\n",
       "      <th></th>\n",
       "      <th>bouton_number</th>\n",
       "      <th>location</th>\n",
       "      <th>comment</th>\n",
       "      <th>surface_area_micron^2</th>\n",
       "      <th>volume_micron^3</th>\n",
       "      <th>marker</th>\n",
       "    </tr>\n",
       "  </thead>\n",
       "  <tbody>\n",
       "    <tr>\n",
       "      <th>0</th>\n",
       "      <td>b1</td>\n",
       "      <td>shaft</td>\n",
       "      <td>*partial</td>\n",
       "      <td>NaN</td>\n",
       "      <td>NaN</td>\n",
       "      <td>parvalbumin</td>\n",
       "    </tr>\n",
       "    <tr>\n",
       "      <th>1</th>\n",
       "      <td>b2</td>\n",
       "      <td>shaft</td>\n",
       "      <td>NaN</td>\n",
       "      <td>0.806441</td>\n",
       "      <td>0.038515</td>\n",
       "      <td>parvalbumin</td>\n",
       "    </tr>\n",
       "    <tr>\n",
       "      <th>2</th>\n",
       "      <td>b3</td>\n",
       "      <td>shaft</td>\n",
       "      <td>NaN</td>\n",
       "      <td>3.650360</td>\n",
       "      <td>0.260579</td>\n",
       "      <td>parvalbumin</td>\n",
       "    </tr>\n",
       "    <tr>\n",
       "      <th>3</th>\n",
       "      <td>b4</td>\n",
       "      <td>shaft</td>\n",
       "      <td>NaN</td>\n",
       "      <td>1.158350</td>\n",
       "      <td>0.074952</td>\n",
       "      <td>parvalbumin</td>\n",
       "    </tr>\n",
       "    <tr>\n",
       "      <th>4</th>\n",
       "      <td>b5</td>\n",
       "      <td>shaft</td>\n",
       "      <td>partial</td>\n",
       "      <td>NaN</td>\n",
       "      <td>NaN</td>\n",
       "      <td>parvalbumin</td>\n",
       "    </tr>\n",
       "  </tbody>\n",
       "</table>\n",
       "</div>"
      ],
      "text/plain": [
       "  bouton_number location   comment  surface_area_micron^2  volume_micron^3  \\\n",
       "0            b1    shaft  *partial                    NaN              NaN   \n",
       "1            b2    shaft       NaN               0.806441         0.038515   \n",
       "2            b3    shaft       NaN               3.650360         0.260579   \n",
       "3            b4    shaft       NaN               1.158350         0.074952   \n",
       "4            b5    shaft   partial                    NaN              NaN   \n",
       "\n",
       "        marker  \n",
       "0  parvalbumin  \n",
       "1  parvalbumin  \n",
       "2  parvalbumin  \n",
       "3  parvalbumin  \n",
       "4  parvalbumin  "
      ]
     },
     "execution_count": 8,
     "metadata": {},
     "output_type": "execute_result"
    }
   ],
   "source": [
    "PV_den1_bouton.head()"
   ]
  },
  {
   "cell_type": "code",
   "execution_count": 9,
   "id": "9f05711d-2304-407c-aeaf-bc8e7bb242ea",
   "metadata": {},
   "outputs": [],
   "source": [
    "# Merge the dataframes for each type\n",
    "\n",
    "def merge_bouton_synapse(bouton_df, synapse_df):\n",
    "    # Merge the bouton dataframe with its corresponding synapse dataframe on 'bouton_number'\n",
    "    merged_df = pd.merge(bouton_df, synapse_df, on='bouton_number', how='inner')\n",
    "    return merged_df\n",
    "\n",
    "CB_den1_merged = merge_bouton_synapse(CB_den1_bouton, CB_den1_synapse)\n",
    "CB_den2_merged = merge_bouton_synapse(CB_den2_bouton, CB_den2_synapse)\n",
    "CB_den3_merged = merge_bouton_synapse(CB_den3_bouton, CB_den3_synapse)\n",
    "\n",
    "CR_den1_merged = merge_bouton_synapse(CR_den1_bouton, CR_den1_synapse)\n",
    "CR_den2_merged = merge_bouton_synapse(CR_den2_bouton, CR_den2_synapse)\n",
    "CR_den3_merged = merge_bouton_synapse(CR_den3_bouton, CR_den3_synapse)\n",
    "\n",
    "PV_den1_merged = merge_bouton_synapse(PV_den1_bouton, PV_den1_synapse)\n",
    "PV_den2_merged = merge_bouton_synapse(PV_den2_bouton, PV_den2_synapse)\n",
    "PV_den3_merged = merge_bouton_synapse(PV_den3_bouton, PV_den3_synapse)\n",
    "\n",
    "# Combine all merged dataframes for each type (CB, CR, PV)\n",
    "\n",
    "CB_combined = pd.concat([CB_den1_merged, CB_den2_merged, CB_den3_merged], ignore_index=True)\n",
    "CR_combined = pd.concat([CR_den1_merged, CR_den2_merged, CR_den3_merged], ignore_index=True)\n",
    "PV_combined = pd.concat([PV_den1_merged, PV_den2_merged, PV_den3_merged], ignore_index=True)"
   ]
  },
  {
   "cell_type": "code",
   "execution_count": 10,
   "id": "003ffca3-316d-4c9d-9d8f-985f51b78bfc",
   "metadata": {},
   "outputs": [
    {
     "data": {
      "text/plain": [
       "(110, 6)"
      ]
     },
     "execution_count": 10,
     "metadata": {},
     "output_type": "execute_result"
    }
   ],
   "source": [
    "CB_den1_bouton.shape"
   ]
  },
  {
   "cell_type": "code",
   "execution_count": 11,
   "id": "740914d8-b102-4e87-8cb0-fceec3b30192",
   "metadata": {},
   "outputs": [
    {
     "data": {
      "text/plain": [
       "(110, 5)"
      ]
     },
     "execution_count": 11,
     "metadata": {},
     "output_type": "execute_result"
    }
   ],
   "source": [
    "CB_den1_synapse.shape"
   ]
  },
  {
   "cell_type": "code",
   "execution_count": 12,
   "id": "e2bd841c-510d-4f12-acfc-d5247aa7cbe3",
   "metadata": {},
   "outputs": [
    {
     "data": {
      "text/plain": [
       "(112, 10)"
      ]
     },
     "execution_count": 12,
     "metadata": {},
     "output_type": "execute_result"
    }
   ],
   "source": [
    "CB_den1_merged.shape"
   ]
  },
  {
   "cell_type": "code",
   "execution_count": 14,
   "id": "e0f216d2-f4e2-4cd4-9316-4f32048d2406",
   "metadata": {},
   "outputs": [
    {
     "data": {
      "text/plain": [
       "np.int64(2)"
      ]
     },
     "execution_count": 14,
     "metadata": {},
     "output_type": "execute_result"
    }
   ],
   "source": [
    "CB_den1_merged.duplicated().sum()\n",
    "# CB_den1 b21 has two synapses, therefore bouton data represented as duplicates."
   ]
  },
  {
   "cell_type": "code",
   "execution_count": 15,
   "id": "4d1c1de9-5a62-4c9b-8492-61bf29d3383e",
   "metadata": {},
   "outputs": [
    {
     "data": {
      "text/plain": [
       "(41, 6)"
      ]
     },
     "execution_count": 15,
     "metadata": {},
     "output_type": "execute_result"
    }
   ],
   "source": [
    "CB_den2_bouton.shape"
   ]
  },
  {
   "cell_type": "code",
   "execution_count": 16,
   "id": "b2d0cbfe-01c7-41c4-abdd-e1a2184e982c",
   "metadata": {},
   "outputs": [
    {
     "data": {
      "text/plain": [
       "(41, 5)"
      ]
     },
     "execution_count": 16,
     "metadata": {},
     "output_type": "execute_result"
    }
   ],
   "source": [
    "CB_den2_synapse.shape"
   ]
  },
  {
   "cell_type": "code",
   "execution_count": 17,
   "id": "f44dc675-40c7-416d-83cb-2a255f23e650",
   "metadata": {},
   "outputs": [
    {
     "data": {
      "text/plain": [
       "(41, 10)"
      ]
     },
     "execution_count": 17,
     "metadata": {},
     "output_type": "execute_result"
    }
   ],
   "source": [
    "CB_den2_merged.shape"
   ]
  },
  {
   "cell_type": "code",
   "execution_count": 18,
   "id": "c633b90d-f40b-46ba-8761-cb50fe8da468",
   "metadata": {},
   "outputs": [
    {
     "data": {
      "text/plain": [
       "np.int64(0)"
      ]
     },
     "execution_count": 18,
     "metadata": {},
     "output_type": "execute_result"
    }
   ],
   "source": [
    "CB_den2_merged.duplicated().sum()"
   ]
  },
  {
   "cell_type": "code",
   "execution_count": 19,
   "id": "291131f9-6b21-4ece-bd3a-5eb55b01dcdc",
   "metadata": {},
   "outputs": [
    {
     "data": {
      "text/plain": [
       "(6, 6)"
      ]
     },
     "execution_count": 19,
     "metadata": {},
     "output_type": "execute_result"
    }
   ],
   "source": [
    "CB_den3_bouton.shape"
   ]
  },
  {
   "cell_type": "code",
   "execution_count": 20,
   "id": "a3f301c3-d074-4387-9656-ac25da1baa6a",
   "metadata": {},
   "outputs": [
    {
     "data": {
      "text/plain": [
       "(6, 5)"
      ]
     },
     "execution_count": 20,
     "metadata": {},
     "output_type": "execute_result"
    }
   ],
   "source": [
    "CB_den3_synapse.shape"
   ]
  },
  {
   "cell_type": "code",
   "execution_count": 21,
   "id": "d745d8e8-1f45-4eeb-9284-ee275ee56bae",
   "metadata": {},
   "outputs": [
    {
     "data": {
      "text/plain": [
       "(6, 10)"
      ]
     },
     "execution_count": 21,
     "metadata": {},
     "output_type": "execute_result"
    }
   ],
   "source": [
    "CB_den3_merged.shape"
   ]
  },
  {
   "cell_type": "code",
   "execution_count": 22,
   "id": "b49278d9-41e4-4b80-b3f9-c5430b168356",
   "metadata": {},
   "outputs": [
    {
     "data": {
      "text/plain": [
       "np.int64(0)"
      ]
     },
     "execution_count": 22,
     "metadata": {},
     "output_type": "execute_result"
    }
   ],
   "source": [
    "CB_den3_merged.duplicated().sum()"
   ]
  },
  {
   "cell_type": "code",
   "execution_count": 23,
   "id": "18903652-1b89-446f-99fb-5b86f551facb",
   "metadata": {},
   "outputs": [
    {
     "data": {
      "text/plain": [
       "(159, 10)"
      ]
     },
     "execution_count": 23,
     "metadata": {},
     "output_type": "execute_result"
    }
   ],
   "source": [
    "CB_combined.shape"
   ]
  },
  {
   "cell_type": "code",
   "execution_count": 24,
   "id": "0fa5231c-b715-4017-896e-10bbe3ecbe69",
   "metadata": {},
   "outputs": [
    {
     "data": {
      "text/plain": [
       "(43, 6)"
      ]
     },
     "execution_count": 24,
     "metadata": {},
     "output_type": "execute_result"
    }
   ],
   "source": [
    "CR_den1_bouton.shape"
   ]
  },
  {
   "cell_type": "code",
   "execution_count": 25,
   "id": "df27d7b0-b123-46cd-876b-5935f88cb297",
   "metadata": {},
   "outputs": [
    {
     "data": {
      "text/plain": [
       "(43, 5)"
      ]
     },
     "execution_count": 25,
     "metadata": {},
     "output_type": "execute_result"
    }
   ],
   "source": [
    "CR_den1_synapse.shape"
   ]
  },
  {
   "cell_type": "code",
   "execution_count": 26,
   "id": "ec02d0af-5a7b-4cba-8da2-3ff4bde32a5d",
   "metadata": {},
   "outputs": [
    {
     "data": {
      "text/plain": [
       "(43, 10)"
      ]
     },
     "execution_count": 26,
     "metadata": {},
     "output_type": "execute_result"
    }
   ],
   "source": [
    "CR_den1_merged.shape"
   ]
  },
  {
   "cell_type": "code",
   "execution_count": 27,
   "id": "fcdc97a5-be2a-4df2-81c6-60ad485bf871",
   "metadata": {},
   "outputs": [
    {
     "data": {
      "text/plain": [
       "np.int64(0)"
      ]
     },
     "execution_count": 27,
     "metadata": {},
     "output_type": "execute_result"
    }
   ],
   "source": [
    "CR_den1_merged.duplicated().sum()"
   ]
  },
  {
   "cell_type": "code",
   "execution_count": 28,
   "id": "824ac9df-6698-4dd2-8c5e-da73d7756361",
   "metadata": {},
   "outputs": [
    {
     "data": {
      "text/plain": [
       "(50, 6)"
      ]
     },
     "execution_count": 28,
     "metadata": {},
     "output_type": "execute_result"
    }
   ],
   "source": [
    "CR_den2_bouton.shape"
   ]
  },
  {
   "cell_type": "code",
   "execution_count": 29,
   "id": "ba6db3cb-17ea-4adb-9516-fe1b60c1979e",
   "metadata": {},
   "outputs": [
    {
     "data": {
      "text/plain": [
       "(50, 5)"
      ]
     },
     "execution_count": 29,
     "metadata": {},
     "output_type": "execute_result"
    }
   ],
   "source": [
    "CR_den2_synapse.shape"
   ]
  },
  {
   "cell_type": "code",
   "execution_count": 30,
   "id": "ede219a8-d7f4-42f4-bd85-a4a39a65dded",
   "metadata": {},
   "outputs": [
    {
     "data": {
      "text/plain": [
       "(50, 10)"
      ]
     },
     "execution_count": 30,
     "metadata": {},
     "output_type": "execute_result"
    }
   ],
   "source": [
    "CR_den2_merged.shape"
   ]
  },
  {
   "cell_type": "code",
   "execution_count": 31,
   "id": "1671974c-529b-45bf-8234-bd04ae4dd3b7",
   "metadata": {},
   "outputs": [
    {
     "data": {
      "text/plain": [
       "np.int64(0)"
      ]
     },
     "execution_count": 31,
     "metadata": {},
     "output_type": "execute_result"
    }
   ],
   "source": [
    "CR_den2_merged.duplicated().sum()"
   ]
  },
  {
   "cell_type": "code",
   "execution_count": 32,
   "id": "3f7851e3-635a-4f58-afca-f9e5fb7de430",
   "metadata": {},
   "outputs": [
    {
     "data": {
      "text/plain": [
       "(28, 6)"
      ]
     },
     "execution_count": 32,
     "metadata": {},
     "output_type": "execute_result"
    }
   ],
   "source": [
    "CR_den3_bouton.shape"
   ]
  },
  {
   "cell_type": "code",
   "execution_count": 33,
   "id": "1356f52c-2ecc-4d60-9c2d-41df22a933b4",
   "metadata": {},
   "outputs": [
    {
     "data": {
      "text/plain": [
       "(28, 5)"
      ]
     },
     "execution_count": 33,
     "metadata": {},
     "output_type": "execute_result"
    }
   ],
   "source": [
    "CR_den3_synapse.shape"
   ]
  },
  {
   "cell_type": "code",
   "execution_count": 34,
   "id": "1409fc78-fc88-4bca-bf3a-e58b72ab9b14",
   "metadata": {},
   "outputs": [
    {
     "data": {
      "text/plain": [
       "(28, 10)"
      ]
     },
     "execution_count": 34,
     "metadata": {},
     "output_type": "execute_result"
    }
   ],
   "source": [
    "CR_den3_merged.shape"
   ]
  },
  {
   "cell_type": "code",
   "execution_count": 35,
   "id": "599da359-68ea-4bfc-8725-c4e0b362625d",
   "metadata": {},
   "outputs": [
    {
     "data": {
      "text/plain": [
       "np.int64(0)"
      ]
     },
     "execution_count": 35,
     "metadata": {},
     "output_type": "execute_result"
    }
   ],
   "source": [
    "CR_den3_merged.duplicated().sum()"
   ]
  },
  {
   "cell_type": "code",
   "execution_count": 36,
   "id": "00d9bc30-9e5c-4ae7-9263-7a87e1d343bc",
   "metadata": {},
   "outputs": [
    {
     "data": {
      "text/plain": [
       "(121, 10)"
      ]
     },
     "execution_count": 36,
     "metadata": {},
     "output_type": "execute_result"
    }
   ],
   "source": [
    "CR_combined.shape"
   ]
  },
  {
   "cell_type": "code",
   "execution_count": 37,
   "id": "f8a7a22e-1295-420c-9166-28eb568b3966",
   "metadata": {},
   "outputs": [
    {
     "data": {
      "text/plain": [
       "(72, 6)"
      ]
     },
     "execution_count": 37,
     "metadata": {},
     "output_type": "execute_result"
    }
   ],
   "source": [
    "PV_den1_bouton.shape"
   ]
  },
  {
   "cell_type": "code",
   "execution_count": 38,
   "id": "9cab9347-c824-400c-ab90-4797daf64396",
   "metadata": {},
   "outputs": [
    {
     "data": {
      "text/plain": [
       "(72, 5)"
      ]
     },
     "execution_count": 38,
     "metadata": {},
     "output_type": "execute_result"
    }
   ],
   "source": [
    "PV_den1_synapse.shape"
   ]
  },
  {
   "cell_type": "code",
   "execution_count": 39,
   "id": "433492d6-bef4-4e06-a37c-89f4bcfd3bd3",
   "metadata": {},
   "outputs": [
    {
     "data": {
      "text/plain": [
       "(72, 10)"
      ]
     },
     "execution_count": 39,
     "metadata": {},
     "output_type": "execute_result"
    }
   ],
   "source": [
    "PV_den1_merged.shape"
   ]
  },
  {
   "cell_type": "code",
   "execution_count": 40,
   "id": "3bb82590-34c2-4d97-8200-29ab9324f349",
   "metadata": {},
   "outputs": [
    {
     "data": {
      "text/plain": [
       "np.int64(0)"
      ]
     },
     "execution_count": 40,
     "metadata": {},
     "output_type": "execute_result"
    }
   ],
   "source": [
    "PV_den1_merged.duplicated().sum()"
   ]
  },
  {
   "cell_type": "code",
   "execution_count": 41,
   "id": "1893d522-c596-4d1e-8396-68e05fd0c8f0",
   "metadata": {},
   "outputs": [
    {
     "data": {
      "text/plain": [
       "(178, 6)"
      ]
     },
     "execution_count": 41,
     "metadata": {},
     "output_type": "execute_result"
    }
   ],
   "source": [
    "PV_den2_bouton.shape"
   ]
  },
  {
   "cell_type": "code",
   "execution_count": 42,
   "id": "ad2578d5-8a64-445a-aa16-b237fb44a26f",
   "metadata": {},
   "outputs": [
    {
     "data": {
      "text/plain": [
       "(178, 5)"
      ]
     },
     "execution_count": 42,
     "metadata": {},
     "output_type": "execute_result"
    }
   ],
   "source": [
    "PV_den2_synapse.shape"
   ]
  },
  {
   "cell_type": "code",
   "execution_count": 43,
   "id": "c93cac78-ec4f-44a0-bc60-a135f4ec399e",
   "metadata": {},
   "outputs": [
    {
     "data": {
      "text/plain": [
       "(178, 10)"
      ]
     },
     "execution_count": 43,
     "metadata": {},
     "output_type": "execute_result"
    }
   ],
   "source": [
    "PV_den2_merged.shape"
   ]
  },
  {
   "cell_type": "code",
   "execution_count": 44,
   "id": "a918c7d2-d6a6-4ae9-b023-42d3e20d042e",
   "metadata": {},
   "outputs": [
    {
     "data": {
      "text/plain": [
       "np.int64(0)"
      ]
     },
     "execution_count": 44,
     "metadata": {},
     "output_type": "execute_result"
    }
   ],
   "source": [
    "PV_den2_merged.duplicated().sum()"
   ]
  },
  {
   "cell_type": "code",
   "execution_count": 45,
   "id": "ba15e10b-65f3-41cb-903e-0f127192a176",
   "metadata": {},
   "outputs": [
    {
     "data": {
      "text/plain": [
       "(251, 6)"
      ]
     },
     "execution_count": 45,
     "metadata": {},
     "output_type": "execute_result"
    }
   ],
   "source": [
    "PV_den3_bouton.shape"
   ]
  },
  {
   "cell_type": "code",
   "execution_count": 46,
   "id": "0406f01b-18f0-48de-b52f-fee11bef9233",
   "metadata": {},
   "outputs": [
    {
     "data": {
      "text/plain": [
       "(251, 5)"
      ]
     },
     "execution_count": 46,
     "metadata": {},
     "output_type": "execute_result"
    }
   ],
   "source": [
    "PV_den3_synapse.shape"
   ]
  },
  {
   "cell_type": "code",
   "execution_count": 47,
   "id": "868a5729-d7e1-4475-8ef2-c708c90658ec",
   "metadata": {},
   "outputs": [
    {
     "data": {
      "text/plain": [
       "(251, 10)"
      ]
     },
     "execution_count": 47,
     "metadata": {},
     "output_type": "execute_result"
    }
   ],
   "source": [
    "PV_den3_merged.shape"
   ]
  },
  {
   "cell_type": "code",
   "execution_count": 48,
   "id": "4a8ba647-d697-42a3-9bb4-e5158dda048c",
   "metadata": {},
   "outputs": [
    {
     "data": {
      "text/plain": [
       "np.int64(0)"
      ]
     },
     "execution_count": 48,
     "metadata": {},
     "output_type": "execute_result"
    }
   ],
   "source": [
    "PV_den3_merged.duplicated().sum()"
   ]
  },
  {
   "cell_type": "code",
   "execution_count": 49,
   "id": "e1d0101d-f86a-43e2-91f5-30c60ab7e3ae",
   "metadata": {},
   "outputs": [
    {
     "data": {
      "text/plain": [
       "(501, 10)"
      ]
     },
     "execution_count": 49,
     "metadata": {},
     "output_type": "execute_result"
    }
   ],
   "source": [
    "PV_combined.shape"
   ]
  },
  {
   "cell_type": "code",
   "execution_count": 50,
   "id": "c42d04da-3825-466c-8797-35ac471e448f",
   "metadata": {},
   "outputs": [
    {
     "name": "stdout",
     "output_type": "stream",
     "text": [
      "<class 'pandas.core.frame.DataFrame'>\n",
      "RangeIndex: 781 entries, 0 to 780\n",
      "Data columns (total 7 columns):\n",
      " #   Column                     Non-Null Count  Dtype  \n",
      "---  ------                     --------------  -----  \n",
      " 0   marker_x                   781 non-null    object \n",
      " 1   bouton_number              781 non-null    object \n",
      " 2   synapse_number             779 non-null    object \n",
      " 3   surface_area_micron^2_x    767 non-null    float64\n",
      " 4   volume_micron^3            767 non-null    float64\n",
      " 5   surface_area_micron^2_y    767 non-null    float64\n",
      " 6   distance_from_soma_micron  767 non-null    float64\n",
      "dtypes: float64(4), object(3)\n",
      "memory usage: 42.8+ KB\n"
     ]
    }
   ],
   "source": [
    "# List of columns needed for statistical analysis\n",
    "stat_columns = ['marker_x', 'bouton_number', 'synapse_number', \n",
    "                   'surface_area_micron^2_x', 'volume_micron^3', \n",
    "                   'surface_area_micron^2_y', 'distance_from_soma_micron']\n",
    "\n",
    "# Concatenate all combined DataFrames\n",
    "full_dataframe = pd.concat([CB_combined, CR_combined, PV_combined], ignore_index=True)\n",
    "\n",
    "# Select only the stat_columns\n",
    "full_dataframe = full_dataframe[stat_columns]\n",
    "\n",
    "# Display the full dataframe information\n",
    "full_dataframe.info()"
   ]
  },
  {
   "cell_type": "code",
   "execution_count": 51,
   "id": "0b1326de-4f9f-4292-83de-5f6785d0e751",
   "metadata": {},
   "outputs": [
    {
     "name": "stdout",
     "output_type": "stream",
     "text": [
      "<class 'pandas.core.frame.DataFrame'>\n",
      "RangeIndex: 781 entries, 0 to 780\n",
      "Data columns (total 7 columns):\n",
      " #   Column                      Non-Null Count  Dtype  \n",
      "---  ------                      --------------  -----  \n",
      " 0   marker                      781 non-null    object \n",
      " 1   bouton_number               781 non-null    object \n",
      " 2   synapse_number              779 non-null    object \n",
      " 3   bouton_surface_area         767 non-null    float64\n",
      " 4   bouton_volume               767 non-null    float64\n",
      " 5   synapse_surface_area        767 non-null    float64\n",
      " 6   synapse_distance_from_soma  767 non-null    float64\n",
      "dtypes: float64(4), object(3)\n",
      "memory usage: 42.8+ KB\n"
     ]
    }
   ],
   "source": [
    "# Rename the columns in the DataFrame\n",
    "full_dataframe.rename(columns={\n",
    "    'marker_x': 'marker',\n",
    "    'surface_area_micron^2_x': 'bouton_surface_area',\n",
    "    'volume_micron^3': 'bouton_volume',\n",
    "    'surface_area_micron^2_y': 'synapse_surface_area',\n",
    "    'distance_from_soma_micron': 'synapse_distance_from_soma'\n",
    "}, inplace=True)\n",
    "\n",
    "# Display the updated DataFrame info\n",
    "full_dataframe.info()\n"
   ]
  },
  {
   "cell_type": "code",
   "execution_count": 52,
   "id": "35aec5bc-c0ef-4553-bee2-184d084c8e6a",
   "metadata": {},
   "outputs": [
    {
     "data": {
      "text/plain": [
       "np.int64(2)"
      ]
     },
     "execution_count": 52,
     "metadata": {},
     "output_type": "execute_result"
    }
   ],
   "source": [
    "full_dataframe.duplicated().sum()"
   ]
  },
  {
   "cell_type": "code",
   "execution_count": 53,
   "id": "eb110c5b-3cd8-4309-a763-f160313b243c",
   "metadata": {},
   "outputs": [
    {
     "data": {
      "text/html": [
       "<div>\n",
       "<style scoped>\n",
       "    .dataframe tbody tr th:only-of-type {\n",
       "        vertical-align: middle;\n",
       "    }\n",
       "\n",
       "    .dataframe tbody tr th {\n",
       "        vertical-align: top;\n",
       "    }\n",
       "\n",
       "    .dataframe thead th {\n",
       "        text-align: right;\n",
       "    }\n",
       "</style>\n",
       "<table border=\"1\" class=\"dataframe\">\n",
       "  <thead>\n",
       "    <tr style=\"text-align: right;\">\n",
       "      <th></th>\n",
       "      <th>marker</th>\n",
       "      <th>bouton_number</th>\n",
       "      <th>synapse_number</th>\n",
       "      <th>bouton_surface_area</th>\n",
       "      <th>bouton_volume</th>\n",
       "      <th>synapse_surface_area</th>\n",
       "      <th>synapse_distance_from_soma</th>\n",
       "    </tr>\n",
       "  </thead>\n",
       "  <tbody>\n",
       "    <tr>\n",
       "      <th>0</th>\n",
       "      <td>calbindin</td>\n",
       "      <td>b1</td>\n",
       "      <td>as1</td>\n",
       "      <td>2.420002</td>\n",
       "      <td>0.286752</td>\n",
       "      <td>0.049045</td>\n",
       "      <td>5.050980</td>\n",
       "    </tr>\n",
       "    <tr>\n",
       "      <th>1</th>\n",
       "      <td>calbindin</td>\n",
       "      <td>b2</td>\n",
       "      <td>as2</td>\n",
       "      <td>1.510073</td>\n",
       "      <td>0.120455</td>\n",
       "      <td>0.101529</td>\n",
       "      <td>5.503922</td>\n",
       "    </tr>\n",
       "    <tr>\n",
       "      <th>2</th>\n",
       "      <td>calbindin</td>\n",
       "      <td>b3</td>\n",
       "      <td>as3</td>\n",
       "      <td>1.827364</td>\n",
       "      <td>0.257001</td>\n",
       "      <td>0.045333</td>\n",
       "      <td>7.127451</td>\n",
       "    </tr>\n",
       "    <tr>\n",
       "      <th>3</th>\n",
       "      <td>calbindin</td>\n",
       "      <td>b4</td>\n",
       "      <td>ss1</td>\n",
       "      <td>NaN</td>\n",
       "      <td>NaN</td>\n",
       "      <td>NaN</td>\n",
       "      <td>NaN</td>\n",
       "    </tr>\n",
       "    <tr>\n",
       "      <th>4</th>\n",
       "      <td>calbindin</td>\n",
       "      <td>b5</td>\n",
       "      <td>as4</td>\n",
       "      <td>2.487303</td>\n",
       "      <td>0.203978</td>\n",
       "      <td>0.199113</td>\n",
       "      <td>10.153922</td>\n",
       "    </tr>\n",
       "    <tr>\n",
       "      <th>...</th>\n",
       "      <td>...</td>\n",
       "      <td>...</td>\n",
       "      <td>...</td>\n",
       "      <td>...</td>\n",
       "      <td>...</td>\n",
       "      <td>...</td>\n",
       "      <td>...</td>\n",
       "    </tr>\n",
       "    <tr>\n",
       "      <th>776</th>\n",
       "      <td>parvalbumin</td>\n",
       "      <td>b247</td>\n",
       "      <td>as221</td>\n",
       "      <td>2.008980</td>\n",
       "      <td>0.097113</td>\n",
       "      <td>0.027914</td>\n",
       "      <td>151.907000</td>\n",
       "    </tr>\n",
       "    <tr>\n",
       "      <th>777</th>\n",
       "      <td>parvalbumin</td>\n",
       "      <td>b248</td>\n",
       "      <td>as222</td>\n",
       "      <td>0.949342</td>\n",
       "      <td>0.053970</td>\n",
       "      <td>0.025779</td>\n",
       "      <td>152.336000</td>\n",
       "    </tr>\n",
       "    <tr>\n",
       "      <th>778</th>\n",
       "      <td>parvalbumin</td>\n",
       "      <td>b249</td>\n",
       "      <td>as223</td>\n",
       "      <td>1.118090</td>\n",
       "      <td>0.102173</td>\n",
       "      <td>0.013867</td>\n",
       "      <td>153.413000</td>\n",
       "    </tr>\n",
       "    <tr>\n",
       "      <th>779</th>\n",
       "      <td>parvalbumin</td>\n",
       "      <td>b250</td>\n",
       "      <td>as224</td>\n",
       "      <td>NaN</td>\n",
       "      <td>NaN</td>\n",
       "      <td>NaN</td>\n",
       "      <td>NaN</td>\n",
       "    </tr>\n",
       "    <tr>\n",
       "      <th>780</th>\n",
       "      <td>parvalbumin</td>\n",
       "      <td>b251</td>\n",
       "      <td>as225</td>\n",
       "      <td>0.768230</td>\n",
       "      <td>0.033852</td>\n",
       "      <td>0.030722</td>\n",
       "      <td>154.857000</td>\n",
       "    </tr>\n",
       "  </tbody>\n",
       "</table>\n",
       "<p>779 rows × 7 columns</p>\n",
       "</div>"
      ],
      "text/plain": [
       "          marker bouton_number synapse_number  bouton_surface_area  \\\n",
       "0      calbindin            b1            as1             2.420002   \n",
       "1      calbindin            b2            as2             1.510073   \n",
       "2      calbindin            b3            as3             1.827364   \n",
       "3      calbindin            b4            ss1                  NaN   \n",
       "4      calbindin            b5            as4             2.487303   \n",
       "..           ...           ...            ...                  ...   \n",
       "776  parvalbumin          b247          as221             2.008980   \n",
       "777  parvalbumin          b248          as222             0.949342   \n",
       "778  parvalbumin          b249          as223             1.118090   \n",
       "779  parvalbumin          b250          as224                  NaN   \n",
       "780  parvalbumin          b251          as225             0.768230   \n",
       "\n",
       "     bouton_volume  synapse_surface_area  synapse_distance_from_soma  \n",
       "0         0.286752              0.049045                    5.050980  \n",
       "1         0.120455              0.101529                    5.503922  \n",
       "2         0.257001              0.045333                    7.127451  \n",
       "3              NaN                   NaN                         NaN  \n",
       "4         0.203978              0.199113                   10.153922  \n",
       "..             ...                   ...                         ...  \n",
       "776       0.097113              0.027914                  151.907000  \n",
       "777       0.053970              0.025779                  152.336000  \n",
       "778       0.102173              0.013867                  153.413000  \n",
       "779            NaN                   NaN                         NaN  \n",
       "780       0.033852              0.030722                  154.857000  \n",
       "\n",
       "[779 rows x 7 columns]"
      ]
     },
     "execution_count": 53,
     "metadata": {},
     "output_type": "execute_result"
    }
   ],
   "source": [
    "# Remove duplicated values\n",
    "full_dataframe.drop_duplicates()"
   ]
  },
  {
   "cell_type": "code",
   "execution_count": 54,
   "id": "dbdd78d1-7083-4317-803f-1fc0d919be35",
   "metadata": {},
   "outputs": [],
   "source": [
    "# Remove NaN values\n",
    "full_dataframe_cleaned = full_dataframe.dropna(axis=0)"
   ]
  },
  {
   "cell_type": "code",
   "execution_count": 55,
   "id": "ddd16de0-c74a-4e5f-a7d6-4f54041c5a2e",
   "metadata": {},
   "outputs": [
    {
     "name": "stdout",
     "output_type": "stream",
     "text": [
      "<class 'pandas.core.frame.DataFrame'>\n",
      "Index: 767 entries, 0 to 780\n",
      "Data columns (total 7 columns):\n",
      " #   Column                      Non-Null Count  Dtype  \n",
      "---  ------                      --------------  -----  \n",
      " 0   marker                      767 non-null    object \n",
      " 1   bouton_number               767 non-null    object \n",
      " 2   synapse_number              767 non-null    object \n",
      " 3   bouton_surface_area         767 non-null    float64\n",
      " 4   bouton_volume               767 non-null    float64\n",
      " 5   synapse_surface_area        767 non-null    float64\n",
      " 6   synapse_distance_from_soma  767 non-null    float64\n",
      "dtypes: float64(4), object(3)\n",
      "memory usage: 47.9+ KB\n"
     ]
    }
   ],
   "source": [
    "full_dataframe_cleaned.info()"
   ]
  },
  {
   "cell_type": "code",
   "execution_count": 56,
   "id": "1831f62b-5860-47e7-ba97-df6f3946a9d5",
   "metadata": {},
   "outputs": [],
   "source": [
    "# Filter full_dataframe_cleaned for synapse numbers starting with 'ss'\n",
    "full_dataframe_cleaned_ss = full_dataframe_cleaned[full_dataframe_cleaned['synapse_number'].str.startswith('ss')]\n",
    "\n",
    "# Filter full_dataframe_cleaned for synapse numbers starting with 'as'\n",
    "full_dataframe_cleaned_as = full_dataframe_cleaned[full_dataframe_cleaned['synapse_number'].str.startswith('as')]"
   ]
  },
  {
   "cell_type": "code",
   "execution_count": 57,
   "id": "b3c3ee8f-d17c-4542-8f4f-cbadca0394cc",
   "metadata": {},
   "outputs": [
    {
     "name": "stdout",
     "output_type": "stream",
     "text": [
      "<class 'pandas.core.frame.DataFrame'>\n",
      "Index: 124 entries, 9 to 761\n",
      "Data columns (total 7 columns):\n",
      " #   Column                      Non-Null Count  Dtype  \n",
      "---  ------                      --------------  -----  \n",
      " 0   marker                      124 non-null    object \n",
      " 1   bouton_number               124 non-null    object \n",
      " 2   synapse_number              124 non-null    object \n",
      " 3   bouton_surface_area         124 non-null    float64\n",
      " 4   bouton_volume               124 non-null    float64\n",
      " 5   synapse_surface_area        124 non-null    float64\n",
      " 6   synapse_distance_from_soma  124 non-null    float64\n",
      "dtypes: float64(4), object(3)\n",
      "memory usage: 7.8+ KB\n"
     ]
    }
   ],
   "source": [
    "full_dataframe_cleaned_ss.info()"
   ]
  },
  {
   "cell_type": "code",
   "execution_count": 59,
   "id": "97cc8400-3788-4e33-8826-794a613368ff",
   "metadata": {},
   "outputs": [
    {
     "name": "stdout",
     "output_type": "stream",
     "text": [
      "<class 'pandas.core.frame.DataFrame'>\n",
      "Index: 643 entries, 0 to 780\n",
      "Data columns (total 7 columns):\n",
      " #   Column                      Non-Null Count  Dtype  \n",
      "---  ------                      --------------  -----  \n",
      " 0   marker                      643 non-null    object \n",
      " 1   bouton_number               643 non-null    object \n",
      " 2   synapse_number              643 non-null    object \n",
      " 3   bouton_surface_area         643 non-null    float64\n",
      " 4   bouton_volume               643 non-null    float64\n",
      " 5   synapse_surface_area        643 non-null    float64\n",
      " 6   synapse_distance_from_soma  643 non-null    float64\n",
      "dtypes: float64(4), object(3)\n",
      "memory usage: 40.2+ KB\n"
     ]
    }
   ],
   "source": [
    "full_dataframe_cleaned_as.info()"
   ]
  },
  {
   "cell_type": "markdown",
   "id": "84d3919d-3fdc-4307-97ca-2a550a6a0201",
   "metadata": {},
   "source": [
    "### Exploratory Data Analysis"
   ]
  },
  {
   "cell_type": "code",
   "execution_count": 119,
   "id": "2ec1e540-9426-439b-ba35-c23321483ff5",
   "metadata": {},
   "outputs": [
    {
     "data": {
      "text/html": [
       "<div>\n",
       "<style scoped>\n",
       "    .dataframe tbody tr th:only-of-type {\n",
       "        vertical-align: middle;\n",
       "    }\n",
       "\n",
       "    .dataframe tbody tr th {\n",
       "        vertical-align: top;\n",
       "    }\n",
       "\n",
       "    .dataframe thead th {\n",
       "        text-align: right;\n",
       "    }\n",
       "</style>\n",
       "<table border=\"1\" class=\"dataframe\">\n",
       "  <thead>\n",
       "    <tr style=\"text-align: right;\">\n",
       "      <th></th>\n",
       "      <th>count</th>\n",
       "      <th>mean</th>\n",
       "      <th>std</th>\n",
       "      <th>min</th>\n",
       "      <th>25%</th>\n",
       "      <th>50%</th>\n",
       "      <th>75%</th>\n",
       "      <th>max</th>\n",
       "    </tr>\n",
       "  </thead>\n",
       "  <tbody>\n",
       "    <tr>\n",
       "      <th>bouton_surface_area</th>\n",
       "      <td>767.0</td>\n",
       "      <td>1.582330</td>\n",
       "      <td>1.009500</td>\n",
       "      <td>0.186348</td>\n",
       "      <td>0.915207</td>\n",
       "      <td>1.304140</td>\n",
       "      <td>1.968175</td>\n",
       "      <td>7.943580</td>\n",
       "    </tr>\n",
       "    <tr>\n",
       "      <th>bouton_volume</th>\n",
       "      <td>767.0</td>\n",
       "      <td>0.123905</td>\n",
       "      <td>0.109488</td>\n",
       "      <td>0.004683</td>\n",
       "      <td>0.050380</td>\n",
       "      <td>0.088240</td>\n",
       "      <td>0.159653</td>\n",
       "      <td>0.846982</td>\n",
       "    </tr>\n",
       "    <tr>\n",
       "      <th>synapse_surface_area</th>\n",
       "      <td>767.0</td>\n",
       "      <td>0.054067</td>\n",
       "      <td>0.034159</td>\n",
       "      <td>0.004907</td>\n",
       "      <td>0.030573</td>\n",
       "      <td>0.045542</td>\n",
       "      <td>0.066645</td>\n",
       "      <td>0.247606</td>\n",
       "    </tr>\n",
       "    <tr>\n",
       "      <th>synapse_distance_from_soma</th>\n",
       "      <td>767.0</td>\n",
       "      <td>71.270015</td>\n",
       "      <td>52.905964</td>\n",
       "      <td>1.506900</td>\n",
       "      <td>29.637950</td>\n",
       "      <td>53.750000</td>\n",
       "      <td>105.121127</td>\n",
       "      <td>220.618000</td>\n",
       "    </tr>\n",
       "  </tbody>\n",
       "</table>\n",
       "</div>"
      ],
      "text/plain": [
       "                            count       mean        std       min        25%  \\\n",
       "bouton_surface_area         767.0   1.582330   1.009500  0.186348   0.915207   \n",
       "bouton_volume               767.0   0.123905   0.109488  0.004683   0.050380   \n",
       "synapse_surface_area        767.0   0.054067   0.034159  0.004907   0.030573   \n",
       "synapse_distance_from_soma  767.0  71.270015  52.905964  1.506900  29.637950   \n",
       "\n",
       "                                  50%         75%         max  \n",
       "bouton_surface_area          1.304140    1.968175    7.943580  \n",
       "bouton_volume                0.088240    0.159653    0.846982  \n",
       "synapse_surface_area         0.045542    0.066645    0.247606  \n",
       "synapse_distance_from_soma  53.750000  105.121127  220.618000  "
      ]
     },
     "execution_count": 119,
     "metadata": {},
     "output_type": "execute_result"
    }
   ],
   "source": [
    "full_dataframe_cleaned_descriptive_stats = full_dataframe_cleaned.describe().T\n",
    "full_dataframe_cleaned_descriptive_stats"
   ]
  },
  {
   "cell_type": "code",
   "execution_count": 61,
   "id": "c7fb89fa-848e-4d58-b443-4af4923a4192",
   "metadata": {},
   "outputs": [
    {
     "data": {
      "text/html": [
       "<div>\n",
       "<style scoped>\n",
       "    .dataframe tbody tr th:only-of-type {\n",
       "        vertical-align: middle;\n",
       "    }\n",
       "\n",
       "    .dataframe tbody tr th {\n",
       "        vertical-align: top;\n",
       "    }\n",
       "\n",
       "    .dataframe thead th {\n",
       "        text-align: right;\n",
       "    }\n",
       "</style>\n",
       "<table border=\"1\" class=\"dataframe\">\n",
       "  <thead>\n",
       "    <tr style=\"text-align: right;\">\n",
       "      <th></th>\n",
       "      <th>count</th>\n",
       "      <th>mean</th>\n",
       "      <th>std</th>\n",
       "      <th>min</th>\n",
       "      <th>25%</th>\n",
       "      <th>50%</th>\n",
       "      <th>75%</th>\n",
       "      <th>max</th>\n",
       "    </tr>\n",
       "  </thead>\n",
       "  <tbody>\n",
       "    <tr>\n",
       "      <th>bouton_surface_area</th>\n",
       "      <td>124.0</td>\n",
       "      <td>2.207696</td>\n",
       "      <td>1.378398</td>\n",
       "      <td>0.329797</td>\n",
       "      <td>1.204468</td>\n",
       "      <td>1.823577</td>\n",
       "      <td>2.966438</td>\n",
       "      <td>7.943580</td>\n",
       "    </tr>\n",
       "    <tr>\n",
       "      <th>bouton_volume</th>\n",
       "      <td>124.0</td>\n",
       "      <td>0.198474</td>\n",
       "      <td>0.150402</td>\n",
       "      <td>0.022580</td>\n",
       "      <td>0.082147</td>\n",
       "      <td>0.162694</td>\n",
       "      <td>0.246997</td>\n",
       "      <td>0.727523</td>\n",
       "    </tr>\n",
       "    <tr>\n",
       "      <th>synapse_surface_area</th>\n",
       "      <td>124.0</td>\n",
       "      <td>0.045640</td>\n",
       "      <td>0.028350</td>\n",
       "      <td>0.005688</td>\n",
       "      <td>0.023903</td>\n",
       "      <td>0.038363</td>\n",
       "      <td>0.056827</td>\n",
       "      <td>0.144233</td>\n",
       "    </tr>\n",
       "    <tr>\n",
       "      <th>synapse_distance_from_soma</th>\n",
       "      <td>124.0</td>\n",
       "      <td>59.592867</td>\n",
       "      <td>51.069761</td>\n",
       "      <td>4.027200</td>\n",
       "      <td>23.222750</td>\n",
       "      <td>41.065750</td>\n",
       "      <td>84.222775</td>\n",
       "      <td>220.618000</td>\n",
       "    </tr>\n",
       "  </tbody>\n",
       "</table>\n",
       "</div>"
      ],
      "text/plain": [
       "                            count       mean        std       min        25%  \\\n",
       "bouton_surface_area         124.0   2.207696   1.378398  0.329797   1.204468   \n",
       "bouton_volume               124.0   0.198474   0.150402  0.022580   0.082147   \n",
       "synapse_surface_area        124.0   0.045640   0.028350  0.005688   0.023903   \n",
       "synapse_distance_from_soma  124.0  59.592867  51.069761  4.027200  23.222750   \n",
       "\n",
       "                                  50%        75%         max  \n",
       "bouton_surface_area          1.823577   2.966438    7.943580  \n",
       "bouton_volume                0.162694   0.246997    0.727523  \n",
       "synapse_surface_area         0.038363   0.056827    0.144233  \n",
       "synapse_distance_from_soma  41.065750  84.222775  220.618000  "
      ]
     },
     "execution_count": 61,
     "metadata": {},
     "output_type": "execute_result"
    }
   ],
   "source": [
    "full_dataframe_cleaned_ss_descriptive_stats = full_dataframe_cleaned_ss.describe().T\n",
    "full_dataframe_cleaned_ss_descriptive_stats"
   ]
  },
  {
   "cell_type": "code",
   "execution_count": 62,
   "id": "d44844f2-c1c8-47b5-ab0c-b19f5745178d",
   "metadata": {},
   "outputs": [
    {
     "data": {
      "text/html": [
       "<div>\n",
       "<style scoped>\n",
       "    .dataframe tbody tr th:only-of-type {\n",
       "        vertical-align: middle;\n",
       "    }\n",
       "\n",
       "    .dataframe tbody tr th {\n",
       "        vertical-align: top;\n",
       "    }\n",
       "\n",
       "    .dataframe thead th {\n",
       "        text-align: right;\n",
       "    }\n",
       "</style>\n",
       "<table border=\"1\" class=\"dataframe\">\n",
       "  <thead>\n",
       "    <tr style=\"text-align: right;\">\n",
       "      <th></th>\n",
       "      <th>count</th>\n",
       "      <th>mean</th>\n",
       "      <th>std</th>\n",
       "      <th>min</th>\n",
       "      <th>25%</th>\n",
       "      <th>50%</th>\n",
       "      <th>75%</th>\n",
       "      <th>max</th>\n",
       "    </tr>\n",
       "  </thead>\n",
       "  <tbody>\n",
       "    <tr>\n",
       "      <th>bouton_surface_area</th>\n",
       "      <td>643.0</td>\n",
       "      <td>1.461730</td>\n",
       "      <td>0.872814</td>\n",
       "      <td>0.186348</td>\n",
       "      <td>0.879222</td>\n",
       "      <td>1.249700</td>\n",
       "      <td>1.823647</td>\n",
       "      <td>7.093180</td>\n",
       "    </tr>\n",
       "    <tr>\n",
       "      <th>bouton_volume</th>\n",
       "      <td>643.0</td>\n",
       "      <td>0.109525</td>\n",
       "      <td>0.093209</td>\n",
       "      <td>0.004683</td>\n",
       "      <td>0.048154</td>\n",
       "      <td>0.083691</td>\n",
       "      <td>0.139148</td>\n",
       "      <td>0.846982</td>\n",
       "    </tr>\n",
       "    <tr>\n",
       "      <th>synapse_surface_area</th>\n",
       "      <td>643.0</td>\n",
       "      <td>0.055692</td>\n",
       "      <td>0.034956</td>\n",
       "      <td>0.004907</td>\n",
       "      <td>0.032073</td>\n",
       "      <td>0.046968</td>\n",
       "      <td>0.067891</td>\n",
       "      <td>0.247606</td>\n",
       "    </tr>\n",
       "    <tr>\n",
       "      <th>synapse_distance_from_soma</th>\n",
       "      <td>643.0</td>\n",
       "      <td>73.521907</td>\n",
       "      <td>52.995883</td>\n",
       "      <td>1.506900</td>\n",
       "      <td>31.112538</td>\n",
       "      <td>58.242600</td>\n",
       "      <td>108.649696</td>\n",
       "      <td>218.995000</td>\n",
       "    </tr>\n",
       "  </tbody>\n",
       "</table>\n",
       "</div>"
      ],
      "text/plain": [
       "                            count       mean        std       min        25%  \\\n",
       "bouton_surface_area         643.0   1.461730   0.872814  0.186348   0.879222   \n",
       "bouton_volume               643.0   0.109525   0.093209  0.004683   0.048154   \n",
       "synapse_surface_area        643.0   0.055692   0.034956  0.004907   0.032073   \n",
       "synapse_distance_from_soma  643.0  73.521907  52.995883  1.506900  31.112538   \n",
       "\n",
       "                                  50%         75%         max  \n",
       "bouton_surface_area          1.249700    1.823647    7.093180  \n",
       "bouton_volume                0.083691    0.139148    0.846982  \n",
       "synapse_surface_area         0.046968    0.067891    0.247606  \n",
       "synapse_distance_from_soma  58.242600  108.649696  218.995000  "
      ]
     },
     "execution_count": 62,
     "metadata": {},
     "output_type": "execute_result"
    }
   ],
   "source": [
    "full_dataframe_cleaned_as_descriptive_stats = full_dataframe_cleaned_as.describe().T\n",
    "full_dataframe_cleaned_as_descriptive_stats"
   ]
  },
  {
   "cell_type": "code",
   "execution_count": 63,
   "id": "2d66b349-b901-4288-a6b0-5ec5912b00a3",
   "metadata": {},
   "outputs": [],
   "source": [
    "full_dataframe_cleaned_descriptive_stats.to_excel('full_dataframe_cleaned_descriptive_stats.xlsx')\n",
    "full_dataframe_cleaned_ss_descriptive_stats.to_excel('full_dataframe_cleaned_ss_descriptive_stats.xlsx')\n",
    "full_dataframe_cleaned_as_descriptive_stats.to_excel('full_dataframe_cleaned_as_descriptive_stats.xlsx')"
   ]
  },
  {
   "cell_type": "code",
   "execution_count": 64,
   "id": "5a87a2c7-8602-44ee-bb1d-ce5415be7800",
   "metadata": {},
   "outputs": [
    {
     "data": {
      "text/html": [
       "<div>\n",
       "<style scoped>\n",
       "    .dataframe tbody tr th:only-of-type {\n",
       "        vertical-align: middle;\n",
       "    }\n",
       "\n",
       "    .dataframe tbody tr th {\n",
       "        vertical-align: top;\n",
       "    }\n",
       "\n",
       "    .dataframe thead th {\n",
       "        text-align: right;\n",
       "    }\n",
       "</style>\n",
       "<table border=\"1\" class=\"dataframe\">\n",
       "  <thead>\n",
       "    <tr style=\"text-align: right;\">\n",
       "      <th></th>\n",
       "      <th>Shapiro</th>\n",
       "      <th>Kurtosis</th>\n",
       "      <th>Skewness</th>\n",
       "    </tr>\n",
       "  </thead>\n",
       "  <tbody>\n",
       "    <tr>\n",
       "      <th>bouton_surface_area</th>\n",
       "      <td>(0.8412178649664239, 5.573951629516159e-27)</td>\n",
       "      <td>6.250576</td>\n",
       "      <td>1.995104</td>\n",
       "    </tr>\n",
       "    <tr>\n",
       "      <th>bouton_volume</th>\n",
       "      <td>(0.7739002311760642, 3.3933383513553265e-31)</td>\n",
       "      <td>7.995199</td>\n",
       "      <td>2.379366</td>\n",
       "    </tr>\n",
       "    <tr>\n",
       "      <th>synapse_surface_area</th>\n",
       "      <td>(0.8620353525437074, 2.150995327466119e-25)</td>\n",
       "      <td>4.120496</td>\n",
       "      <td>1.727989</td>\n",
       "    </tr>\n",
       "    <tr>\n",
       "      <th>synapse_distance_from_soma</th>\n",
       "      <td>(0.9133310013724768, 1.6503912813895438e-20)</td>\n",
       "      <td>-0.059951</td>\n",
       "      <td>0.865587</td>\n",
       "    </tr>\n",
       "  </tbody>\n",
       "</table>\n",
       "</div>"
      ],
      "text/plain": [
       "                                                                 Shapiro  \\\n",
       "bouton_surface_area          (0.8412178649664239, 5.573951629516159e-27)   \n",
       "bouton_volume               (0.7739002311760642, 3.3933383513553265e-31)   \n",
       "synapse_surface_area         (0.8620353525437074, 2.150995327466119e-25)   \n",
       "synapse_distance_from_soma  (0.9133310013724768, 1.6503912813895438e-20)   \n",
       "\n",
       "                            Kurtosis  Skewness  \n",
       "bouton_surface_area         6.250576  1.995104  \n",
       "bouton_volume               7.995199  2.379366  \n",
       "synapse_surface_area        4.120496  1.727989  \n",
       "synapse_distance_from_soma -0.059951  0.865587  "
      ]
     },
     "execution_count": 64,
     "metadata": {},
     "output_type": "execute_result"
    }
   ],
   "source": [
    "# Perform the Shapiro-Wilk test for normality: full_dataframe_cleaned\n",
    "\n",
    "shapiro_columns = full_dataframe_cleaned[['bouton_surface_area', 'bouton_volume', 'synapse_surface_area', 'synapse_distance_from_soma']]\n",
    "\n",
    "stat_analysis = {}\n",
    "for column in shapiro_columns.columns:\n",
    "    stat_analysis[column] = {\n",
    "        'Shapiro': stats.shapiro(shapiro_columns[column]),\n",
    "        'Kurtosis': stats.kurtosis(shapiro_columns[column]),\n",
    "        'Skewness': stats.skew(shapiro_columns[column])\n",
    "    }\n",
    "\n",
    "full_dataframe_cleaned_normality_test = pd.DataFrame(stat_analysis).T\n",
    "\n",
    "full_dataframe_cleaned_normality_test\n",
    "# Shapiro: 1. value: t-stat of the test, 2. value: p-value"
   ]
  },
  {
   "cell_type": "code",
   "execution_count": 65,
   "id": "8ea2f59a-133a-4e14-9080-d6c7834b5c72",
   "metadata": {},
   "outputs": [
    {
     "name": "stdout",
     "output_type": "stream",
     "text": [
      "Non-normally distributed columns: ['bouton_surface_area', 'bouton_volume', 'synapse_surface_area', 'synapse_distance_from_soma']\n"
     ]
    }
   ],
   "source": [
    "# Another method for listing columns distributed non_normally: full_dataframe_cleaned\n",
    "# p-value < 0.05 indicates non-normal distribution\n",
    "non_normal_cols = []\n",
    "for column in shapiro_columns.columns:\n",
    "    stat, p = stats.shapiro(shapiro_columns[column])\n",
    "    if p < 0.05:  \n",
    "        non_normal_cols.append(column)\n",
    "\n",
    "print(\"Non-normally distributed columns:\", non_normal_cols)"
   ]
  },
  {
   "cell_type": "code",
   "execution_count": 66,
   "id": "63b3b78c-ff31-44d8-bb9b-3565ec5893b2",
   "metadata": {},
   "outputs": [
    {
     "data": {
      "text/html": [
       "<div>\n",
       "<style scoped>\n",
       "    .dataframe tbody tr th:only-of-type {\n",
       "        vertical-align: middle;\n",
       "    }\n",
       "\n",
       "    .dataframe tbody tr th {\n",
       "        vertical-align: top;\n",
       "    }\n",
       "\n",
       "    .dataframe thead th {\n",
       "        text-align: right;\n",
       "    }\n",
       "</style>\n",
       "<table border=\"1\" class=\"dataframe\">\n",
       "  <thead>\n",
       "    <tr style=\"text-align: right;\">\n",
       "      <th></th>\n",
       "      <th>Shapiro</th>\n",
       "      <th>Kurtosis</th>\n",
       "      <th>Skewness</th>\n",
       "    </tr>\n",
       "  </thead>\n",
       "  <tbody>\n",
       "    <tr>\n",
       "      <th>bouton_surface_area</th>\n",
       "      <td>(0.8990066288984657, 1.1961692139769447e-07)</td>\n",
       "      <td>2.476411</td>\n",
       "      <td>1.337898</td>\n",
       "    </tr>\n",
       "    <tr>\n",
       "      <th>bouton_volume</th>\n",
       "      <td>(0.8775218460183377, 1.0790510537134983e-08)</td>\n",
       "      <td>1.037071</td>\n",
       "      <td>1.239084</td>\n",
       "    </tr>\n",
       "    <tr>\n",
       "      <th>synapse_surface_area</th>\n",
       "      <td>(0.9010949879838015, 1.5354399398145304e-07)</td>\n",
       "      <td>1.608957</td>\n",
       "      <td>1.255547</td>\n",
       "    </tr>\n",
       "    <tr>\n",
       "      <th>synapse_distance_from_soma</th>\n",
       "      <td>(0.8532651629353607, 9.604080561354232e-10)</td>\n",
       "      <td>1.494203</td>\n",
       "      <td>1.382924</td>\n",
       "    </tr>\n",
       "  </tbody>\n",
       "</table>\n",
       "</div>"
      ],
      "text/plain": [
       "                                                                 Shapiro  \\\n",
       "bouton_surface_area         (0.8990066288984657, 1.1961692139769447e-07)   \n",
       "bouton_volume               (0.8775218460183377, 1.0790510537134983e-08)   \n",
       "synapse_surface_area        (0.9010949879838015, 1.5354399398145304e-07)   \n",
       "synapse_distance_from_soma   (0.8532651629353607, 9.604080561354232e-10)   \n",
       "\n",
       "                            Kurtosis  Skewness  \n",
       "bouton_surface_area         2.476411  1.337898  \n",
       "bouton_volume               1.037071  1.239084  \n",
       "synapse_surface_area        1.608957  1.255547  \n",
       "synapse_distance_from_soma  1.494203  1.382924  "
      ]
     },
     "execution_count": 66,
     "metadata": {},
     "output_type": "execute_result"
    }
   ],
   "source": [
    "# Perform the Shapiro-Wilk test for normality: full_dataframe_cleaned_ss\n",
    "\n",
    "shapiro_columns = full_dataframe_cleaned_ss[['bouton_surface_area', 'bouton_volume', 'synapse_surface_area', 'synapse_distance_from_soma']]\n",
    "\n",
    "stat_analysis = {}\n",
    "for column in shapiro_columns.columns:\n",
    "    stat_analysis[column] = {\n",
    "        'Shapiro': stats.shapiro(shapiro_columns[column]),\n",
    "        'Kurtosis': stats.kurtosis(shapiro_columns[column]),\n",
    "        'Skewness': stats.skew(shapiro_columns[column])\n",
    "    }\n",
    "\n",
    "full_dataframe_cleaned_ss_normality_test = pd.DataFrame(stat_analysis).T\n",
    "\n",
    "full_dataframe_cleaned_ss_normality_test\n",
    "# Shapiro: 1. value: t-stat of the test, 2. value: p-value"
   ]
  },
  {
   "cell_type": "code",
   "execution_count": 67,
   "id": "1e7db31d-8213-4526-9c70-a573ce340465",
   "metadata": {},
   "outputs": [
    {
     "name": "stdout",
     "output_type": "stream",
     "text": [
      "Non-normally distributed columns: ['bouton_surface_area', 'bouton_volume', 'synapse_surface_area', 'synapse_distance_from_soma']\n"
     ]
    }
   ],
   "source": [
    "# Another method for listing columns distributed non_normally: full_dataframe_cleaned_ss\n",
    "# p-value < 0.05 indicates non-normal distribution\n",
    "non_normal_cols = []\n",
    "for column in shapiro_columns.columns:\n",
    "    stat, p = stats.shapiro(shapiro_columns[column])\n",
    "    if p < 0.05:  \n",
    "        non_normal_cols.append(column)\n",
    "\n",
    "print(\"Non-normally distributed columns:\", non_normal_cols)"
   ]
  },
  {
   "cell_type": "code",
   "execution_count": 68,
   "id": "31a65fa9-c0ee-422b-a42a-f500f3870887",
   "metadata": {},
   "outputs": [
    {
     "data": {
      "text/html": [
       "<div>\n",
       "<style scoped>\n",
       "    .dataframe tbody tr th:only-of-type {\n",
       "        vertical-align: middle;\n",
       "    }\n",
       "\n",
       "    .dataframe tbody tr th {\n",
       "        vertical-align: top;\n",
       "    }\n",
       "\n",
       "    .dataframe thead th {\n",
       "        text-align: right;\n",
       "    }\n",
       "</style>\n",
       "<table border=\"1\" class=\"dataframe\">\n",
       "  <thead>\n",
       "    <tr style=\"text-align: right;\">\n",
       "      <th></th>\n",
       "      <th>Shapiro</th>\n",
       "      <th>Kurtosis</th>\n",
       "      <th>Skewness</th>\n",
       "    </tr>\n",
       "  </thead>\n",
       "  <tbody>\n",
       "    <tr>\n",
       "      <th>bouton_surface_area</th>\n",
       "      <td>(0.8523586694365699, 4.821669171785041e-24)</td>\n",
       "      <td>6.84996</td>\n",
       "      <td>1.99574</td>\n",
       "    </tr>\n",
       "    <tr>\n",
       "      <th>bouton_volume</th>\n",
       "      <td>(0.7646199712961688, 2.5846824942817336e-29)</td>\n",
       "      <td>13.163385</td>\n",
       "      <td>2.777459</td>\n",
       "    </tr>\n",
       "    <tr>\n",
       "      <th>synapse_surface_area</th>\n",
       "      <td>(0.856624519663127, 9.909143875966387e-24)</td>\n",
       "      <td>4.110117</td>\n",
       "      <td>1.750613</td>\n",
       "    </tr>\n",
       "    <tr>\n",
       "      <th>synapse_distance_from_soma</th>\n",
       "      <td>(0.9213694010192873, 8.41718115290569e-18)</td>\n",
       "      <td>-0.240671</td>\n",
       "      <td>0.78344</td>\n",
       "    </tr>\n",
       "  </tbody>\n",
       "</table>\n",
       "</div>"
      ],
      "text/plain": [
       "                                                                 Shapiro  \\\n",
       "bouton_surface_area          (0.8523586694365699, 4.821669171785041e-24)   \n",
       "bouton_volume               (0.7646199712961688, 2.5846824942817336e-29)   \n",
       "synapse_surface_area          (0.856624519663127, 9.909143875966387e-24)   \n",
       "synapse_distance_from_soma    (0.9213694010192873, 8.41718115290569e-18)   \n",
       "\n",
       "                             Kurtosis  Skewness  \n",
       "bouton_surface_area           6.84996   1.99574  \n",
       "bouton_volume               13.163385  2.777459  \n",
       "synapse_surface_area         4.110117  1.750613  \n",
       "synapse_distance_from_soma  -0.240671   0.78344  "
      ]
     },
     "execution_count": 68,
     "metadata": {},
     "output_type": "execute_result"
    }
   ],
   "source": [
    "# Perform the Shapiro-Wilk test for normality: full_dataframe_cleaned_as\n",
    "\n",
    "shapiro_columns = full_dataframe_cleaned_as[['bouton_surface_area', 'bouton_volume', 'synapse_surface_area', 'synapse_distance_from_soma']]\n",
    "\n",
    "stat_analysis = {}\n",
    "for column in shapiro_columns.columns:\n",
    "    stat_analysis[column] = {\n",
    "        'Shapiro': stats.shapiro(shapiro_columns[column]),\n",
    "        'Kurtosis': stats.kurtosis(shapiro_columns[column]),\n",
    "        'Skewness': stats.skew(shapiro_columns[column])\n",
    "    }\n",
    "\n",
    "full_dataframe_cleaned_as_normality_test = pd.DataFrame(stat_analysis).T\n",
    "\n",
    "full_dataframe_cleaned_as_normality_test\n",
    "# Shapiro: 1. value: t-stat of the test, 2. value: p-value"
   ]
  },
  {
   "cell_type": "code",
   "execution_count": 69,
   "id": "f90a2bb9-f48e-48ea-8291-dcbb31ae2962",
   "metadata": {},
   "outputs": [
    {
     "name": "stdout",
     "output_type": "stream",
     "text": [
      "Non-normally distributed columns: ['bouton_surface_area', 'bouton_volume', 'synapse_surface_area', 'synapse_distance_from_soma']\n"
     ]
    }
   ],
   "source": [
    "# Another method for listing columns distributed non_normally: full_dataframe_cleaned_as\n",
    "# p-value < 0.05 indicates non-normal distribution\n",
    "non_normal_cols = []\n",
    "for column in shapiro_columns.columns:\n",
    "    stat, p = stats.shapiro(shapiro_columns[column])\n",
    "    if p < 0.05:  \n",
    "        non_normal_cols.append(column)\n",
    "\n",
    "print(\"Non-normally distributed columns:\", non_normal_cols)"
   ]
  },
  {
   "cell_type": "code",
   "execution_count": 70,
   "id": "73e86126-f02c-4ee7-8d63-e2b295509d08",
   "metadata": {},
   "outputs": [],
   "source": [
    "# 1. Filter the DataFrame for rows with markers\n",
    "calbindin_df = full_dataframe_cleaned[full_dataframe_cleaned['marker'] == 'calbindin'].copy()\n",
    "calretinin_df = full_dataframe_cleaned[full_dataframe_cleaned['marker'] == 'calretinin'].copy()\n",
    "parvalbumin_df = full_dataframe_cleaned[full_dataframe_cleaned['marker'] == 'parvalbumin'].copy()\n",
    "\n",
    "# 2. Clean the synapse_number column\n",
    "calbindin_df['synapse_number'] = calbindin_df['synapse_number'].str.strip()\n",
    "calretinin_df['synapse_number'] = calretinin_df['synapse_number'].str.strip()\n",
    "parvalbumin_df['synapse_number'] = parvalbumin_df['synapse_number'].str.strip()\n",
    "\n",
    "# 3. Create new columns: 'as' and 'ss'\n",
    "calbindin_df['synapse_type'] = calbindin_df['synapse_number'].apply(lambda x: 'as' if x.startswith('as') else 'ss')\n",
    "calretinin_df['synapse_type'] = calretinin_df['synapse_number'].apply(lambda x: 'as' if x.startswith('as') else 'ss')\n",
    "parvalbumin_df['synapse_type'] = parvalbumin_df['synapse_number'].apply(lambda x: 'as' if x.startswith('as') else 'ss')"
   ]
  },
  {
   "cell_type": "code",
   "execution_count": 71,
   "id": "c6dca341-4e01-4f39-8697-0c15b0628205",
   "metadata": {},
   "outputs": [
    {
     "data": {
      "text/html": [
       "<div>\n",
       "<style scoped>\n",
       "    .dataframe tbody tr th:only-of-type {\n",
       "        vertical-align: middle;\n",
       "    }\n",
       "\n",
       "    .dataframe tbody tr th {\n",
       "        vertical-align: top;\n",
       "    }\n",
       "\n",
       "    .dataframe thead th {\n",
       "        text-align: right;\n",
       "    }\n",
       "</style>\n",
       "<table border=\"1\" class=\"dataframe\">\n",
       "  <thead>\n",
       "    <tr style=\"text-align: right;\">\n",
       "      <th></th>\n",
       "      <th>marker</th>\n",
       "      <th>bouton_number</th>\n",
       "      <th>synapse_number</th>\n",
       "      <th>bouton_surface_area</th>\n",
       "      <th>bouton_volume</th>\n",
       "      <th>synapse_surface_area</th>\n",
       "      <th>synapse_distance_from_soma</th>\n",
       "      <th>synapse_type</th>\n",
       "    </tr>\n",
       "  </thead>\n",
       "  <tbody>\n",
       "    <tr>\n",
       "      <th>0</th>\n",
       "      <td>calbindin</td>\n",
       "      <td>b1</td>\n",
       "      <td>as1</td>\n",
       "      <td>2.420002</td>\n",
       "      <td>0.286752</td>\n",
       "      <td>0.049045</td>\n",
       "      <td>5.050980</td>\n",
       "      <td>as</td>\n",
       "    </tr>\n",
       "    <tr>\n",
       "      <th>1</th>\n",
       "      <td>calbindin</td>\n",
       "      <td>b2</td>\n",
       "      <td>as2</td>\n",
       "      <td>1.510073</td>\n",
       "      <td>0.120455</td>\n",
       "      <td>0.101529</td>\n",
       "      <td>5.503922</td>\n",
       "      <td>as</td>\n",
       "    </tr>\n",
       "    <tr>\n",
       "      <th>2</th>\n",
       "      <td>calbindin</td>\n",
       "      <td>b3</td>\n",
       "      <td>as3</td>\n",
       "      <td>1.827364</td>\n",
       "      <td>0.257001</td>\n",
       "      <td>0.045333</td>\n",
       "      <td>7.127451</td>\n",
       "      <td>as</td>\n",
       "    </tr>\n",
       "    <tr>\n",
       "      <th>4</th>\n",
       "      <td>calbindin</td>\n",
       "      <td>b5</td>\n",
       "      <td>as4</td>\n",
       "      <td>2.487303</td>\n",
       "      <td>0.203978</td>\n",
       "      <td>0.199113</td>\n",
       "      <td>10.153922</td>\n",
       "      <td>as</td>\n",
       "    </tr>\n",
       "    <tr>\n",
       "      <th>6</th>\n",
       "      <td>calbindin</td>\n",
       "      <td>b7</td>\n",
       "      <td>as6</td>\n",
       "      <td>2.522674</td>\n",
       "      <td>0.152951</td>\n",
       "      <td>0.140426</td>\n",
       "      <td>14.685294</td>\n",
       "      <td>as</td>\n",
       "    </tr>\n",
       "  </tbody>\n",
       "</table>\n",
       "</div>"
      ],
      "text/plain": [
       "      marker bouton_number synapse_number  bouton_surface_area  bouton_volume  \\\n",
       "0  calbindin            b1            as1             2.420002       0.286752   \n",
       "1  calbindin            b2            as2             1.510073       0.120455   \n",
       "2  calbindin            b3            as3             1.827364       0.257001   \n",
       "4  calbindin            b5            as4             2.487303       0.203978   \n",
       "6  calbindin            b7            as6             2.522674       0.152951   \n",
       "\n",
       "   synapse_surface_area  synapse_distance_from_soma synapse_type  \n",
       "0              0.049045                    5.050980           as  \n",
       "1              0.101529                    5.503922           as  \n",
       "2              0.045333                    7.127451           as  \n",
       "4              0.199113                   10.153922           as  \n",
       "6              0.140426                   14.685294           as  "
      ]
     },
     "execution_count": 71,
     "metadata": {},
     "output_type": "execute_result"
    }
   ],
   "source": [
    "calbindin_df.head()"
   ]
  },
  {
   "cell_type": "code",
   "execution_count": 72,
   "id": "2a9ac82d-3ce1-405c-a87c-5215263564af",
   "metadata": {},
   "outputs": [
    {
     "data": {
      "text/html": [
       "<div>\n",
       "<style scoped>\n",
       "    .dataframe tbody tr th:only-of-type {\n",
       "        vertical-align: middle;\n",
       "    }\n",
       "\n",
       "    .dataframe tbody tr th {\n",
       "        vertical-align: top;\n",
       "    }\n",
       "\n",
       "    .dataframe thead th {\n",
       "        text-align: right;\n",
       "    }\n",
       "</style>\n",
       "<table border=\"1\" class=\"dataframe\">\n",
       "  <thead>\n",
       "    <tr style=\"text-align: right;\">\n",
       "      <th></th>\n",
       "      <th>marker</th>\n",
       "      <th>bouton_number</th>\n",
       "      <th>synapse_number</th>\n",
       "      <th>bouton_surface_area</th>\n",
       "      <th>bouton_volume</th>\n",
       "      <th>synapse_surface_area</th>\n",
       "      <th>synapse_distance_from_soma</th>\n",
       "      <th>synapse_type</th>\n",
       "    </tr>\n",
       "  </thead>\n",
       "  <tbody>\n",
       "    <tr>\n",
       "      <th>159</th>\n",
       "      <td>calretinin</td>\n",
       "      <td>b1</td>\n",
       "      <td>ss1</td>\n",
       "      <td>1.792631</td>\n",
       "      <td>0.156600</td>\n",
       "      <td>0.034853</td>\n",
       "      <td>19.996154</td>\n",
       "      <td>ss</td>\n",
       "    </tr>\n",
       "    <tr>\n",
       "      <th>160</th>\n",
       "      <td>calretinin</td>\n",
       "      <td>b2</td>\n",
       "      <td>ss2</td>\n",
       "      <td>3.131823</td>\n",
       "      <td>0.346040</td>\n",
       "      <td>0.056729</td>\n",
       "      <td>20.849038</td>\n",
       "      <td>ss</td>\n",
       "    </tr>\n",
       "    <tr>\n",
       "      <th>161</th>\n",
       "      <td>calretinin</td>\n",
       "      <td>b3</td>\n",
       "      <td>as1</td>\n",
       "      <td>0.609929</td>\n",
       "      <td>0.036171</td>\n",
       "      <td>0.010335</td>\n",
       "      <td>23.882692</td>\n",
       "      <td>as</td>\n",
       "    </tr>\n",
       "    <tr>\n",
       "      <th>162</th>\n",
       "      <td>calretinin</td>\n",
       "      <td>b4</td>\n",
       "      <td>ss3</td>\n",
       "      <td>1.244231</td>\n",
       "      <td>0.126382</td>\n",
       "      <td>0.029389</td>\n",
       "      <td>25.094231</td>\n",
       "      <td>ss</td>\n",
       "    </tr>\n",
       "    <tr>\n",
       "      <th>163</th>\n",
       "      <td>calretinin</td>\n",
       "      <td>b5</td>\n",
       "      <td>as2</td>\n",
       "      <td>0.756150</td>\n",
       "      <td>0.063169</td>\n",
       "      <td>0.033509</td>\n",
       "      <td>25.705769</td>\n",
       "      <td>as</td>\n",
       "    </tr>\n",
       "  </tbody>\n",
       "</table>\n",
       "</div>"
      ],
      "text/plain": [
       "         marker bouton_number synapse_number  bouton_surface_area  \\\n",
       "159  calretinin            b1            ss1             1.792631   \n",
       "160  calretinin            b2            ss2             3.131823   \n",
       "161  calretinin            b3            as1             0.609929   \n",
       "162  calretinin            b4            ss3             1.244231   \n",
       "163  calretinin            b5            as2             0.756150   \n",
       "\n",
       "     bouton_volume  synapse_surface_area  synapse_distance_from_soma  \\\n",
       "159       0.156600              0.034853                   19.996154   \n",
       "160       0.346040              0.056729                   20.849038   \n",
       "161       0.036171              0.010335                   23.882692   \n",
       "162       0.126382              0.029389                   25.094231   \n",
       "163       0.063169              0.033509                   25.705769   \n",
       "\n",
       "    synapse_type  \n",
       "159           ss  \n",
       "160           ss  \n",
       "161           as  \n",
       "162           ss  \n",
       "163           as  "
      ]
     },
     "execution_count": 72,
     "metadata": {},
     "output_type": "execute_result"
    }
   ],
   "source": [
    "calretinin_df.head()"
   ]
  },
  {
   "cell_type": "code",
   "execution_count": 73,
   "id": "c225973b-4b79-4c7a-a22b-a0b6c6239069",
   "metadata": {},
   "outputs": [
    {
     "data": {
      "text/html": [
       "<div>\n",
       "<style scoped>\n",
       "    .dataframe tbody tr th:only-of-type {\n",
       "        vertical-align: middle;\n",
       "    }\n",
       "\n",
       "    .dataframe tbody tr th {\n",
       "        vertical-align: top;\n",
       "    }\n",
       "\n",
       "    .dataframe thead th {\n",
       "        text-align: right;\n",
       "    }\n",
       "</style>\n",
       "<table border=\"1\" class=\"dataframe\">\n",
       "  <thead>\n",
       "    <tr style=\"text-align: right;\">\n",
       "      <th></th>\n",
       "      <th>marker</th>\n",
       "      <th>bouton_number</th>\n",
       "      <th>synapse_number</th>\n",
       "      <th>bouton_surface_area</th>\n",
       "      <th>bouton_volume</th>\n",
       "      <th>synapse_surface_area</th>\n",
       "      <th>synapse_distance_from_soma</th>\n",
       "      <th>synapse_type</th>\n",
       "    </tr>\n",
       "  </thead>\n",
       "  <tbody>\n",
       "    <tr>\n",
       "      <th>281</th>\n",
       "      <td>parvalbumin</td>\n",
       "      <td>b2</td>\n",
       "      <td>as2</td>\n",
       "      <td>0.806441</td>\n",
       "      <td>0.038515</td>\n",
       "      <td>0.059982</td>\n",
       "      <td>3.3493</td>\n",
       "      <td>as</td>\n",
       "    </tr>\n",
       "    <tr>\n",
       "      <th>282</th>\n",
       "      <td>parvalbumin</td>\n",
       "      <td>b3</td>\n",
       "      <td>as3</td>\n",
       "      <td>3.650360</td>\n",
       "      <td>0.260579</td>\n",
       "      <td>0.166120</td>\n",
       "      <td>4.0323</td>\n",
       "      <td>as</td>\n",
       "    </tr>\n",
       "    <tr>\n",
       "      <th>283</th>\n",
       "      <td>parvalbumin</td>\n",
       "      <td>b4</td>\n",
       "      <td>ss1</td>\n",
       "      <td>1.158350</td>\n",
       "      <td>0.074952</td>\n",
       "      <td>0.055239</td>\n",
       "      <td>4.7494</td>\n",
       "      <td>ss</td>\n",
       "    </tr>\n",
       "    <tr>\n",
       "      <th>285</th>\n",
       "      <td>parvalbumin</td>\n",
       "      <td>b6</td>\n",
       "      <td>ss3</td>\n",
       "      <td>2.633370</td>\n",
       "      <td>0.171998</td>\n",
       "      <td>0.068455</td>\n",
       "      <td>6.6741</td>\n",
       "      <td>ss</td>\n",
       "    </tr>\n",
       "    <tr>\n",
       "      <th>286</th>\n",
       "      <td>parvalbumin</td>\n",
       "      <td>b7</td>\n",
       "      <td>as4</td>\n",
       "      <td>1.042910</td>\n",
       "      <td>0.045959</td>\n",
       "      <td>0.021003</td>\n",
       "      <td>7.1191</td>\n",
       "      <td>as</td>\n",
       "    </tr>\n",
       "  </tbody>\n",
       "</table>\n",
       "</div>"
      ],
      "text/plain": [
       "          marker bouton_number synapse_number  bouton_surface_area  \\\n",
       "281  parvalbumin            b2            as2             0.806441   \n",
       "282  parvalbumin            b3            as3             3.650360   \n",
       "283  parvalbumin            b4            ss1             1.158350   \n",
       "285  parvalbumin            b6            ss3             2.633370   \n",
       "286  parvalbumin            b7            as4             1.042910   \n",
       "\n",
       "     bouton_volume  synapse_surface_area  synapse_distance_from_soma  \\\n",
       "281       0.038515              0.059982                      3.3493   \n",
       "282       0.260579              0.166120                      4.0323   \n",
       "283       0.074952              0.055239                      4.7494   \n",
       "285       0.171998              0.068455                      6.6741   \n",
       "286       0.045959              0.021003                      7.1191   \n",
       "\n",
       "    synapse_type  \n",
       "281           as  \n",
       "282           as  \n",
       "283           ss  \n",
       "285           ss  \n",
       "286           as  "
      ]
     },
     "execution_count": 73,
     "metadata": {},
     "output_type": "execute_result"
    }
   ],
   "source": [
    "parvalbumin_df.head()"
   ]
  },
  {
   "cell_type": "code",
   "execution_count": 74,
   "id": "c057d32d-1781-4dbe-a6ff-c2860b8ccfb2",
   "metadata": {},
   "outputs": [
    {
     "name": "stdout",
     "output_type": "stream",
     "text": [
      "<class 'pandas.core.frame.DataFrame'>\n",
      "Index: 152 entries, 0 to 158\n",
      "Data columns (total 8 columns):\n",
      " #   Column                      Non-Null Count  Dtype  \n",
      "---  ------                      --------------  -----  \n",
      " 0   marker                      152 non-null    object \n",
      " 1   bouton_number               152 non-null    object \n",
      " 2   synapse_number              152 non-null    object \n",
      " 3   bouton_surface_area         152 non-null    float64\n",
      " 4   bouton_volume               152 non-null    float64\n",
      " 5   synapse_surface_area        152 non-null    float64\n",
      " 6   synapse_distance_from_soma  152 non-null    float64\n",
      " 7   synapse_type                152 non-null    object \n",
      "dtypes: float64(4), object(4)\n",
      "memory usage: 10.7+ KB\n"
     ]
    }
   ],
   "source": [
    "calbindin_df.info()"
   ]
  },
  {
   "cell_type": "code",
   "execution_count": 75,
   "id": "5133d6a1-8d7c-41f4-9014-5684b5446d48",
   "metadata": {},
   "outputs": [
    {
     "name": "stdout",
     "output_type": "stream",
     "text": [
      "<class 'pandas.core.frame.DataFrame'>\n",
      "Index: 119 entries, 159 to 279\n",
      "Data columns (total 8 columns):\n",
      " #   Column                      Non-Null Count  Dtype  \n",
      "---  ------                      --------------  -----  \n",
      " 0   marker                      119 non-null    object \n",
      " 1   bouton_number               119 non-null    object \n",
      " 2   synapse_number              119 non-null    object \n",
      " 3   bouton_surface_area         119 non-null    float64\n",
      " 4   bouton_volume               119 non-null    float64\n",
      " 5   synapse_surface_area        119 non-null    float64\n",
      " 6   synapse_distance_from_soma  119 non-null    float64\n",
      " 7   synapse_type                119 non-null    object \n",
      "dtypes: float64(4), object(4)\n",
      "memory usage: 8.4+ KB\n"
     ]
    }
   ],
   "source": [
    "calretinin_df.info()"
   ]
  },
  {
   "cell_type": "code",
   "execution_count": 76,
   "id": "f7974eeb-cc42-439f-9a4c-a8ae6dfe13f1",
   "metadata": {},
   "outputs": [
    {
     "name": "stdout",
     "output_type": "stream",
     "text": [
      "<class 'pandas.core.frame.DataFrame'>\n",
      "Index: 496 entries, 281 to 780\n",
      "Data columns (total 8 columns):\n",
      " #   Column                      Non-Null Count  Dtype  \n",
      "---  ------                      --------------  -----  \n",
      " 0   marker                      496 non-null    object \n",
      " 1   bouton_number               496 non-null    object \n",
      " 2   synapse_number              496 non-null    object \n",
      " 3   bouton_surface_area         496 non-null    float64\n",
      " 4   bouton_volume               496 non-null    float64\n",
      " 5   synapse_surface_area        496 non-null    float64\n",
      " 6   synapse_distance_from_soma  496 non-null    float64\n",
      " 7   synapse_type                496 non-null    object \n",
      "dtypes: float64(4), object(4)\n",
      "memory usage: 34.9+ KB\n"
     ]
    }
   ],
   "source": [
    "parvalbumin_df.info()"
   ]
  },
  {
   "cell_type": "code",
   "execution_count": 113,
   "id": "79dff292-3eae-4fe6-9d8f-1dce2d82da93",
   "metadata": {},
   "outputs": [
    {
     "name": "stderr",
     "output_type": "stream",
     "text": [
      "C:\\Users\\PC\\AppData\\Local\\Temp\\ipykernel_1248\\3952824888.py:33: FutureWarning: \n",
      "\n",
      "Passing `palette` without assigning `hue` is deprecated and will be removed in v0.14.0. Assign the `x` variable to `hue` and set `legend=False` for the same effect.\n",
      "\n",
      "  sns.boxplot(\n",
      "C:\\Users\\PC\\AppData\\Local\\Temp\\ipykernel_1248\\3952824888.py:52: UserWarning: set_ticklabels() should only be used with a fixed number of ticks, i.e. after set_ticks() or using a FixedLocator.\n",
      "  ax.set_xticklabels(['exc', 'inh'], font='Cambria', fontsize=18, fontweight='bold')\n",
      "C:\\Users\\PC\\AppData\\Local\\Temp\\ipykernel_1248\\3952824888.py:33: FutureWarning: \n",
      "\n",
      "Passing `palette` without assigning `hue` is deprecated and will be removed in v0.14.0. Assign the `x` variable to `hue` and set `legend=False` for the same effect.\n",
      "\n",
      "  sns.boxplot(\n",
      "C:\\Users\\PC\\AppData\\Local\\Temp\\ipykernel_1248\\3952824888.py:52: UserWarning: set_ticklabels() should only be used with a fixed number of ticks, i.e. after set_ticks() or using a FixedLocator.\n",
      "  ax.set_xticklabels(['exc', 'inh'], font='Cambria', fontsize=18, fontweight='bold')\n",
      "C:\\Users\\PC\\AppData\\Local\\Temp\\ipykernel_1248\\3952824888.py:33: FutureWarning: \n",
      "\n",
      "Passing `palette` without assigning `hue` is deprecated and will be removed in v0.14.0. Assign the `x` variable to `hue` and set `legend=False` for the same effect.\n",
      "\n",
      "  sns.boxplot(\n",
      "C:\\Users\\PC\\AppData\\Local\\Temp\\ipykernel_1248\\3952824888.py:52: UserWarning: set_ticklabels() should only be used with a fixed number of ticks, i.e. after set_ticks() or using a FixedLocator.\n",
      "  ax.set_xticklabels(['exc', 'inh'], font='Cambria', fontsize=18, fontweight='bold')\n"
     ]
    },
    {
     "data": {
      "image/png": "[encoded data removed]",
      "text/plain": [
       "<Figure size 1800x800 with 3 Axes>"
      ]
     },
     "metadata": {},
     "output_type": "display_data"
    }
   ],
   "source": [
    "# 1. Add a 'marker' column to each dataframe\n",
    "calbindin_df['marker'] = 'calbindin'\n",
    "calretinin_df['marker'] = 'calretinin'\n",
    "parvalbumin_df['marker'] = 'parvalbumin'\n",
    "\n",
    "# 2. Combine all dataframes into one\n",
    "combined_df = pd.concat([calbindin_df, calretinin_df, parvalbumin_df], ignore_index=True)\n",
    "\n",
    "# 3. Map synapse_number to 'as' and 'ss' groups\n",
    "combined_df['synapse_type'] = combined_df['synapse_number'].apply(lambda x: 'as' if x.startswith('as') else 'ss')\n",
    "\n",
    "# 4. Define properties for the boxplot\n",
    "meanprops = dict(markerfacecolor='black', marker='D', markeredgecolor='black', markersize=8)\n",
    "flierprops = dict(markerfacecolor='black', marker='o')\n",
    "medianprops = dict(color='black', linewidth=2)\n",
    "\n",
    "# Define color palette for each marker type\n",
    "palette_dict = {\n",
    "    'calbindin': ['#AD07E3', '#C878E6'],\n",
    "    'calretinin': ['darkorange', 'navajowhite'],\n",
    "    'parvalbumin': ['#00C000', 'palegreen']\n",
    "}\n",
    "\n",
    "# 5. Create subplots\n",
    "fig, axes = plt.subplots(1, 3, figsize=(18, 8), sharey=True)\n",
    "\n",
    "# 6. Plot each marker's data in a separate subplot\n",
    "for ax, marker in zip(axes, ['calbindin', 'calretinin', 'parvalbumin']):\n",
    "    # Filter the dataframe for the current marker\n",
    "    marker_df = combined_df[combined_df['marker'] == marker]\n",
    "    \n",
    "    # Create the boxplot for the current marker\n",
    "    sns.boxplot(\n",
    "        x='synapse_type', \n",
    "        y='synapse_surface_area', \n",
    "        data=marker_df, \n",
    "        palette=palette_dict[marker],\n",
    "        ax=ax, \n",
    "        flierprops=flierprops,\n",
    "        showmeans=True,\n",
    "        meanprops=meanprops,\n",
    "        medianprops=medianprops,\n",
    "        order=['as', 'ss']\n",
    "    )\n",
    "    \n",
    "    # Set title and labels for the subplot with custom font and fontsize\n",
    "    ax.set_title(f'{marker.capitalize()}', fontsize=22, fontweight='bold', family='Cambria')\n",
    "    ax.set_xlabel('')\n",
    "    ax.set_ylabel('Synapse Surface area (micron^2)', fontsize=18, font='Cambria', fontweight='bold')\n",
    "    \n",
    "    # Customize x-axis tick labels\n",
    "    ax.set_xticklabels(['exc', 'inh'], font='Cambria', fontsize=18, fontweight='bold')\n",
    "    \n",
    "    # Set y-axis range and tick labels\n",
    "    ax.set_ylim(0.00, 0.25)  \n",
    "    ax.set_yticks([0.00, 0.05, 0.10, 0.15, 0.20, 0.25])  \n",
    "    ax.set_yticklabels([f'{tick:.2f}' for tick in ax.get_yticks()], font='Cambria', fontsize=14)\n",
    "\n",
    "# Adjust layout\n",
    "plt.tight_layout()\n",
    "\n",
    "plt.savefig('synapse_surface_summary_boxplot.jpg', dpi=300, transparent=True, bbox_inches='tight')\n",
    "# Show the plot\n",
    "plt.show()"
   ]
  },
  {
   "cell_type": "code",
   "execution_count": 78,
   "id": "c05f398b-d3d4-4af7-90a5-530715ba5897",
   "metadata": {},
   "outputs": [],
   "source": [
    "# 1. Calculate the new 'surface_area/volume' column for each dataframe\n",
    "calbindin_df['surface_area/volume'] = calbindin_df['bouton_surface_area'] / calbindin_df['bouton_volume']\n",
    "calretinin_df['surface_area/volume'] = calretinin_df['bouton_surface_area'] / calretinin_df['bouton_volume']\n",
    "parvalbumin_df['surface_area/volume'] = parvalbumin_df['bouton_surface_area'] / parvalbumin_df['bouton_volume']\n",
    "\n",
    "# Optionally, handle division by zero or any errors (e.g., if bouton_volume is zero)\n",
    "# Using np.where to handle cases with zero volume\n",
    "calbindin_df['surface_area/volume'] = calbindin_df.apply(\n",
    "    lambda row: row['bouton_surface_area'] / row['bouton_volume'] if row['bouton_volume'] != 0 else float('nan'), axis=1\n",
    ")\n",
    "calretinin_df['surface_area/volume'] = calretinin_df.apply(\n",
    "    lambda row: row['bouton_surface_area'] / row['bouton_volume'] if row['bouton_volume'] != 0 else float('nan'), axis=1\n",
    ")\n",
    "parvalbumin_df['surface_area/volume'] = parvalbumin_df.apply(\n",
    "    lambda row: row['bouton_surface_area'] / row['bouton_volume'] if row['bouton_volume'] != 0 else float('nan'), axis=1\n",
    ")"
   ]
  },
  {
   "cell_type": "code",
   "execution_count": 79,
   "id": "74d7f32a-2f29-42b0-a345-fc54fd7b76e9",
   "metadata": {},
   "outputs": [
    {
     "data": {
      "text/html": [
       "<div>\n",
       "<style scoped>\n",
       "    .dataframe tbody tr th:only-of-type {\n",
       "        vertical-align: middle;\n",
       "    }\n",
       "\n",
       "    .dataframe tbody tr th {\n",
       "        vertical-align: top;\n",
       "    }\n",
       "\n",
       "    .dataframe thead th {\n",
       "        text-align: right;\n",
       "    }\n",
       "</style>\n",
       "<table border=\"1\" class=\"dataframe\">\n",
       "  <thead>\n",
       "    <tr style=\"text-align: right;\">\n",
       "      <th></th>\n",
       "      <th>marker</th>\n",
       "      <th>bouton_number</th>\n",
       "      <th>synapse_number</th>\n",
       "      <th>bouton_surface_area</th>\n",
       "      <th>bouton_volume</th>\n",
       "      <th>synapse_surface_area</th>\n",
       "      <th>synapse_distance_from_soma</th>\n",
       "      <th>synapse_type</th>\n",
       "      <th>surface_area/volume</th>\n",
       "    </tr>\n",
       "  </thead>\n",
       "  <tbody>\n",
       "    <tr>\n",
       "      <th>0</th>\n",
       "      <td>calbindin</td>\n",
       "      <td>b1</td>\n",
       "      <td>as1</td>\n",
       "      <td>2.420002</td>\n",
       "      <td>0.286752</td>\n",
       "      <td>0.049045</td>\n",
       "      <td>5.050980</td>\n",
       "      <td>as</td>\n",
       "      <td>8.439342</td>\n",
       "    </tr>\n",
       "    <tr>\n",
       "      <th>1</th>\n",
       "      <td>calbindin</td>\n",
       "      <td>b2</td>\n",
       "      <td>as2</td>\n",
       "      <td>1.510073</td>\n",
       "      <td>0.120455</td>\n",
       "      <td>0.101529</td>\n",
       "      <td>5.503922</td>\n",
       "      <td>as</td>\n",
       "      <td>12.536390</td>\n",
       "    </tr>\n",
       "    <tr>\n",
       "      <th>2</th>\n",
       "      <td>calbindin</td>\n",
       "      <td>b3</td>\n",
       "      <td>as3</td>\n",
       "      <td>1.827364</td>\n",
       "      <td>0.257001</td>\n",
       "      <td>0.045333</td>\n",
       "      <td>7.127451</td>\n",
       "      <td>as</td>\n",
       "      <td>7.110353</td>\n",
       "    </tr>\n",
       "    <tr>\n",
       "      <th>4</th>\n",
       "      <td>calbindin</td>\n",
       "      <td>b5</td>\n",
       "      <td>as4</td>\n",
       "      <td>2.487303</td>\n",
       "      <td>0.203978</td>\n",
       "      <td>0.199113</td>\n",
       "      <td>10.153922</td>\n",
       "      <td>as</td>\n",
       "      <td>12.193981</td>\n",
       "    </tr>\n",
       "    <tr>\n",
       "      <th>6</th>\n",
       "      <td>calbindin</td>\n",
       "      <td>b7</td>\n",
       "      <td>as6</td>\n",
       "      <td>2.522674</td>\n",
       "      <td>0.152951</td>\n",
       "      <td>0.140426</td>\n",
       "      <td>14.685294</td>\n",
       "      <td>as</td>\n",
       "      <td>16.493330</td>\n",
       "    </tr>\n",
       "  </tbody>\n",
       "</table>\n",
       "</div>"
      ],
      "text/plain": [
       "      marker bouton_number synapse_number  bouton_surface_area  bouton_volume  \\\n",
       "0  calbindin            b1            as1             2.420002       0.286752   \n",
       "1  calbindin            b2            as2             1.510073       0.120455   \n",
       "2  calbindin            b3            as3             1.827364       0.257001   \n",
       "4  calbindin            b5            as4             2.487303       0.203978   \n",
       "6  calbindin            b7            as6             2.522674       0.152951   \n",
       "\n",
       "   synapse_surface_area  synapse_distance_from_soma synapse_type  \\\n",
       "0              0.049045                    5.050980           as   \n",
       "1              0.101529                    5.503922           as   \n",
       "2              0.045333                    7.127451           as   \n",
       "4              0.199113                   10.153922           as   \n",
       "6              0.140426                   14.685294           as   \n",
       "\n",
       "   surface_area/volume  \n",
       "0             8.439342  \n",
       "1            12.536390  \n",
       "2             7.110353  \n",
       "4            12.193981  \n",
       "6            16.493330  "
      ]
     },
     "execution_count": 79,
     "metadata": {},
     "output_type": "execute_result"
    }
   ],
   "source": [
    "calbindin_df.head()"
   ]
  },
  {
   "cell_type": "code",
   "execution_count": 80,
   "id": "00c4982a-5b8c-494e-a5ae-ccf37872288d",
   "metadata": {},
   "outputs": [
    {
     "data": {
      "text/html": [
       "<div>\n",
       "<style scoped>\n",
       "    .dataframe tbody tr th:only-of-type {\n",
       "        vertical-align: middle;\n",
       "    }\n",
       "\n",
       "    .dataframe tbody tr th {\n",
       "        vertical-align: top;\n",
       "    }\n",
       "\n",
       "    .dataframe thead th {\n",
       "        text-align: right;\n",
       "    }\n",
       "</style>\n",
       "<table border=\"1\" class=\"dataframe\">\n",
       "  <thead>\n",
       "    <tr style=\"text-align: right;\">\n",
       "      <th></th>\n",
       "      <th>marker</th>\n",
       "      <th>bouton_number</th>\n",
       "      <th>synapse_number</th>\n",
       "      <th>bouton_surface_area</th>\n",
       "      <th>bouton_volume</th>\n",
       "      <th>synapse_surface_area</th>\n",
       "      <th>synapse_distance_from_soma</th>\n",
       "      <th>synapse_type</th>\n",
       "      <th>surface_area/volume</th>\n",
       "    </tr>\n",
       "  </thead>\n",
       "  <tbody>\n",
       "    <tr>\n",
       "      <th>159</th>\n",
       "      <td>calretinin</td>\n",
       "      <td>b1</td>\n",
       "      <td>ss1</td>\n",
       "      <td>1.792631</td>\n",
       "      <td>0.156600</td>\n",
       "      <td>0.034853</td>\n",
       "      <td>19.996154</td>\n",
       "      <td>ss</td>\n",
       "      <td>11.447179</td>\n",
       "    </tr>\n",
       "    <tr>\n",
       "      <th>160</th>\n",
       "      <td>calretinin</td>\n",
       "      <td>b2</td>\n",
       "      <td>ss2</td>\n",
       "      <td>3.131823</td>\n",
       "      <td>0.346040</td>\n",
       "      <td>0.056729</td>\n",
       "      <td>20.849038</td>\n",
       "      <td>ss</td>\n",
       "      <td>9.050464</td>\n",
       "    </tr>\n",
       "    <tr>\n",
       "      <th>161</th>\n",
       "      <td>calretinin</td>\n",
       "      <td>b3</td>\n",
       "      <td>as1</td>\n",
       "      <td>0.609929</td>\n",
       "      <td>0.036171</td>\n",
       "      <td>0.010335</td>\n",
       "      <td>23.882692</td>\n",
       "      <td>as</td>\n",
       "      <td>16.862601</td>\n",
       "    </tr>\n",
       "    <tr>\n",
       "      <th>162</th>\n",
       "      <td>calretinin</td>\n",
       "      <td>b4</td>\n",
       "      <td>ss3</td>\n",
       "      <td>1.244231</td>\n",
       "      <td>0.126382</td>\n",
       "      <td>0.029389</td>\n",
       "      <td>25.094231</td>\n",
       "      <td>ss</td>\n",
       "      <td>9.845039</td>\n",
       "    </tr>\n",
       "    <tr>\n",
       "      <th>163</th>\n",
       "      <td>calretinin</td>\n",
       "      <td>b5</td>\n",
       "      <td>as2</td>\n",
       "      <td>0.756150</td>\n",
       "      <td>0.063169</td>\n",
       "      <td>0.033509</td>\n",
       "      <td>25.705769</td>\n",
       "      <td>as</td>\n",
       "      <td>11.970329</td>\n",
       "    </tr>\n",
       "  </tbody>\n",
       "</table>\n",
       "</div>"
      ],
      "text/plain": [
       "         marker bouton_number synapse_number  bouton_surface_area  \\\n",
       "159  calretinin            b1            ss1             1.792631   \n",
       "160  calretinin            b2            ss2             3.131823   \n",
       "161  calretinin            b3            as1             0.609929   \n",
       "162  calretinin            b4            ss3             1.244231   \n",
       "163  calretinin            b5            as2             0.756150   \n",
       "\n",
       "     bouton_volume  synapse_surface_area  synapse_distance_from_soma  \\\n",
       "159       0.156600              0.034853                   19.996154   \n",
       "160       0.346040              0.056729                   20.849038   \n",
       "161       0.036171              0.010335                   23.882692   \n",
       "162       0.126382              0.029389                   25.094231   \n",
       "163       0.063169              0.033509                   25.705769   \n",
       "\n",
       "    synapse_type  surface_area/volume  \n",
       "159           ss            11.447179  \n",
       "160           ss             9.050464  \n",
       "161           as            16.862601  \n",
       "162           ss             9.845039  \n",
       "163           as            11.970329  "
      ]
     },
     "execution_count": 80,
     "metadata": {},
     "output_type": "execute_result"
    }
   ],
   "source": [
    "calretinin_df.head()"
   ]
  },
  {
   "cell_type": "code",
   "execution_count": 81,
   "id": "b8e8d90e-bdaf-449b-aabf-6be38af9226b",
   "metadata": {},
   "outputs": [
    {
     "data": {
      "text/html": [
       "<div>\n",
       "<style scoped>\n",
       "    .dataframe tbody tr th:only-of-type {\n",
       "        vertical-align: middle;\n",
       "    }\n",
       "\n",
       "    .dataframe tbody tr th {\n",
       "        vertical-align: top;\n",
       "    }\n",
       "\n",
       "    .dataframe thead th {\n",
       "        text-align: right;\n",
       "    }\n",
       "</style>\n",
       "<table border=\"1\" class=\"dataframe\">\n",
       "  <thead>\n",
       "    <tr style=\"text-align: right;\">\n",
       "      <th></th>\n",
       "      <th>marker</th>\n",
       "      <th>bouton_number</th>\n",
       "      <th>synapse_number</th>\n",
       "      <th>bouton_surface_area</th>\n",
       "      <th>bouton_volume</th>\n",
       "      <th>synapse_surface_area</th>\n",
       "      <th>synapse_distance_from_soma</th>\n",
       "      <th>synapse_type</th>\n",
       "      <th>surface_area/volume</th>\n",
       "    </tr>\n",
       "  </thead>\n",
       "  <tbody>\n",
       "    <tr>\n",
       "      <th>281</th>\n",
       "      <td>parvalbumin</td>\n",
       "      <td>b2</td>\n",
       "      <td>as2</td>\n",
       "      <td>0.806441</td>\n",
       "      <td>0.038515</td>\n",
       "      <td>0.059982</td>\n",
       "      <td>3.3493</td>\n",
       "      <td>as</td>\n",
       "      <td>20.938579</td>\n",
       "    </tr>\n",
       "    <tr>\n",
       "      <th>282</th>\n",
       "      <td>parvalbumin</td>\n",
       "      <td>b3</td>\n",
       "      <td>as3</td>\n",
       "      <td>3.650360</td>\n",
       "      <td>0.260579</td>\n",
       "      <td>0.166120</td>\n",
       "      <td>4.0323</td>\n",
       "      <td>as</td>\n",
       "      <td>14.008650</td>\n",
       "    </tr>\n",
       "    <tr>\n",
       "      <th>283</th>\n",
       "      <td>parvalbumin</td>\n",
       "      <td>b4</td>\n",
       "      <td>ss1</td>\n",
       "      <td>1.158350</td>\n",
       "      <td>0.074952</td>\n",
       "      <td>0.055239</td>\n",
       "      <td>4.7494</td>\n",
       "      <td>ss</td>\n",
       "      <td>15.454516</td>\n",
       "    </tr>\n",
       "    <tr>\n",
       "      <th>285</th>\n",
       "      <td>parvalbumin</td>\n",
       "      <td>b6</td>\n",
       "      <td>ss3</td>\n",
       "      <td>2.633370</td>\n",
       "      <td>0.171998</td>\n",
       "      <td>0.068455</td>\n",
       "      <td>6.6741</td>\n",
       "      <td>ss</td>\n",
       "      <td>15.310469</td>\n",
       "    </tr>\n",
       "    <tr>\n",
       "      <th>286</th>\n",
       "      <td>parvalbumin</td>\n",
       "      <td>b7</td>\n",
       "      <td>as4</td>\n",
       "      <td>1.042910</td>\n",
       "      <td>0.045959</td>\n",
       "      <td>0.021003</td>\n",
       "      <td>7.1191</td>\n",
       "      <td>as</td>\n",
       "      <td>22.692083</td>\n",
       "    </tr>\n",
       "  </tbody>\n",
       "</table>\n",
       "</div>"
      ],
      "text/plain": [
       "          marker bouton_number synapse_number  bouton_surface_area  \\\n",
       "281  parvalbumin            b2            as2             0.806441   \n",
       "282  parvalbumin            b3            as3             3.650360   \n",
       "283  parvalbumin            b4            ss1             1.158350   \n",
       "285  parvalbumin            b6            ss3             2.633370   \n",
       "286  parvalbumin            b7            as4             1.042910   \n",
       "\n",
       "     bouton_volume  synapse_surface_area  synapse_distance_from_soma  \\\n",
       "281       0.038515              0.059982                      3.3493   \n",
       "282       0.260579              0.166120                      4.0323   \n",
       "283       0.074952              0.055239                      4.7494   \n",
       "285       0.171998              0.068455                      6.6741   \n",
       "286       0.045959              0.021003                      7.1191   \n",
       "\n",
       "    synapse_type  surface_area/volume  \n",
       "281           as            20.938579  \n",
       "282           as            14.008650  \n",
       "283           ss            15.454516  \n",
       "285           ss            15.310469  \n",
       "286           as            22.692083  "
      ]
     },
     "execution_count": 81,
     "metadata": {},
     "output_type": "execute_result"
    }
   ],
   "source": [
    "parvalbumin_df.head()"
   ]
  },
  {
   "cell_type": "code",
   "execution_count": 114,
   "id": "d0b11592-a3d5-4063-87b9-0263c3d2e102",
   "metadata": {},
   "outputs": [
    {
     "name": "stderr",
     "output_type": "stream",
     "text": [
      "C:\\Users\\PC\\AppData\\Local\\Temp\\ipykernel_1248\\269526714.py:33: FutureWarning: \n",
      "\n",
      "Passing `palette` without assigning `hue` is deprecated and will be removed in v0.14.0. Assign the `x` variable to `hue` and set `legend=False` for the same effect.\n",
      "\n",
      "  sns.boxplot(\n",
      "C:\\Users\\PC\\AppData\\Local\\Temp\\ipykernel_1248\\269526714.py:52: UserWarning: set_ticklabels() should only be used with a fixed number of ticks, i.e. after set_ticks() or using a FixedLocator.\n",
      "  ax.set_xticklabels(['exc', 'inh'], font='Cambria', fontsize=18, fontweight='bold')\n",
      "C:\\Users\\PC\\AppData\\Local\\Temp\\ipykernel_1248\\269526714.py:53: UserWarning: set_ticklabels() should only be used with a fixed number of ticks, i.e. after set_ticks() or using a FixedLocator.\n",
      "  ax.set_yticklabels([f'{tick:.2f}' for tick in ax.get_yticks()], font='Cambria', fontsize=14)\n",
      "C:\\Users\\PC\\AppData\\Local\\Temp\\ipykernel_1248\\269526714.py:33: FutureWarning: \n",
      "\n",
      "Passing `palette` without assigning `hue` is deprecated and will be removed in v0.14.0. Assign the `x` variable to `hue` and set `legend=False` for the same effect.\n",
      "\n",
      "  sns.boxplot(\n",
      "C:\\Users\\PC\\AppData\\Local\\Temp\\ipykernel_1248\\269526714.py:52: UserWarning: set_ticklabels() should only be used with a fixed number of ticks, i.e. after set_ticks() or using a FixedLocator.\n",
      "  ax.set_xticklabels(['exc', 'inh'], font='Cambria', fontsize=18, fontweight='bold')\n",
      "C:\\Users\\PC\\AppData\\Local\\Temp\\ipykernel_1248\\269526714.py:53: UserWarning: set_ticklabels() should only be used with a fixed number of ticks, i.e. after set_ticks() or using a FixedLocator.\n",
      "  ax.set_yticklabels([f'{tick:.2f}' for tick in ax.get_yticks()], font='Cambria', fontsize=14)\n",
      "C:\\Users\\PC\\AppData\\Local\\Temp\\ipykernel_1248\\269526714.py:33: FutureWarning: \n",
      "\n",
      "Passing `palette` without assigning `hue` is deprecated and will be removed in v0.14.0. Assign the `x` variable to `hue` and set `legend=False` for the same effect.\n",
      "\n",
      "  sns.boxplot(\n",
      "C:\\Users\\PC\\AppData\\Local\\Temp\\ipykernel_1248\\269526714.py:52: UserWarning: set_ticklabels() should only be used with a fixed number of ticks, i.e. after set_ticks() or using a FixedLocator.\n",
      "  ax.set_xticklabels(['exc', 'inh'], font='Cambria', fontsize=18, fontweight='bold')\n",
      "C:\\Users\\PC\\AppData\\Local\\Temp\\ipykernel_1248\\269526714.py:53: UserWarning: set_ticklabels() should only be used with a fixed number of ticks, i.e. after set_ticks() or using a FixedLocator.\n",
      "  ax.set_yticklabels([f'{tick:.2f}' for tick in ax.get_yticks()], font='Cambria', fontsize=14)\n"
     ]
    },
    {
     "data": {
      "image/png": "[encoded data removed]",
      "text/plain": [
       "<Figure size 1800x800 with 3 Axes>"
      ]
     },
     "metadata": {},
     "output_type": "display_data"
    }
   ],
   "source": [
    "# 1. Add a 'marker' column to each dataframe\n",
    "calbindin_df['marker'] = 'calbindin'\n",
    "calretinin_df['marker'] = 'calretinin'\n",
    "parvalbumin_df['marker'] = 'parvalbumin'\n",
    "\n",
    "# 2. Combine all dataframes into one\n",
    "combined_df = pd.concat([calbindin_df, calretinin_df, parvalbumin_df], ignore_index=True)\n",
    "\n",
    "# 3. Map synapse_number to 'as' and 'ss' groups\n",
    "combined_df['synapse_type'] = combined_df['synapse_number'].apply(lambda x: 'as' if x.startswith('as') else 'ss')\n",
    "\n",
    "# 4. Define properties for the boxplot\n",
    "meanprops = dict(markerfacecolor='black', marker='D', markeredgecolor='black', markersize=8)\n",
    "flierprops = dict(markerfacecolor='black', marker='o')\n",
    "medianprops = dict(color='black', linewidth=2)\n",
    "\n",
    "# Define color palette for each marker type\n",
    "palette_dict = {\n",
    "    'calbindin': ['#AD07E3', '#C878E6'],\n",
    "    'calretinin': ['darkorange', 'navajowhite'],\n",
    "    'parvalbumin': ['#00C000', 'palegreen']\n",
    "}\n",
    "\n",
    "# 5. Create subplots\n",
    "fig, axes = plt.subplots(1, 3, figsize=(18, 8), sharey=True)\n",
    "\n",
    "# 6. Plot each marker's data in a separate subplot\n",
    "for ax, marker in zip(axes, ['calbindin', 'calretinin', 'parvalbumin']):\n",
    "    # Filter the dataframe for the current marker\n",
    "    marker_df = combined_df[combined_df['marker'] == marker]\n",
    "    \n",
    "    # Create the boxplot for the current marker\n",
    "    sns.boxplot(\n",
    "        x='synapse_type', \n",
    "        y='surface_area/volume',  \n",
    "        data=marker_df, \n",
    "        palette=palette_dict[marker],\n",
    "        ax=ax, \n",
    "        flierprops=flierprops,\n",
    "        showmeans=True,\n",
    "        meanprops=meanprops,\n",
    "        medianprops=medianprops,\n",
    "        order=['as', 'ss']\n",
    "    )\n",
    "    \n",
    "    # Set title and labels for the subplot with custom font and fontsize\n",
    "    ax.set_title(f'{marker.capitalize()}', fontsize=22, fontweight='bold', family='Cambria')\n",
    "    ax.set_xlabel('')\n",
    "    ax.set_ylabel('Bouton Surface area / Volume (micron^-1)', fontsize=18, font='Cambria', fontweight='bold')\n",
    "    \n",
    "    # Customize tick labels\n",
    "    ax.set_xticklabels(['exc', 'inh'], font='Cambria', fontsize=18, fontweight='bold')\n",
    "    ax.set_yticklabels([f'{tick:.2f}' for tick in ax.get_yticks()], font='Cambria', fontsize=14)\n",
    "\n",
    "plt.tight_layout()\n",
    "\n",
    "plt.savefig('bouton_ratio_summary_boxplot.jpg', dpi=300, transparent=True, bbox_inches='tight')\n",
    "\n",
    "plt.show()"
   ]
  },
  {
   "cell_type": "markdown",
   "id": "8329797f-0df5-4249-bf64-7cc4dd3fc393",
   "metadata": {},
   "source": [
    "### Statistical analysis"
   ]
  },
  {
   "cell_type": "code",
   "execution_count": 131,
   "id": "8b603a31-5bde-48c6-b198-1618f6b137a4",
   "metadata": {},
   "outputs": [
    {
     "name": "stdout",
     "output_type": "stream",
     "text": [
      "### Mann-Whitney U Test Results (Within Markers) ###\n",
      "\n",
      "\n",
      "Analyzing marker: calbindin\n",
      "Mann-Whitney U Test Results for calbindin: U-statistic = 2966.0000, p-value = 7.5350e-06\n",
      "Significant difference found between as and ss for calbindin (p < 0.05)\n",
      "\n",
      "Analyzing marker: calretinin\n",
      "Mann-Whitney U Test Results for calretinin: U-statistic = 1026.0000, p-value = 2.2872e-01\n",
      "No significant difference found between as and ss for calretinin (p >= 0.05)\n",
      "\n",
      "Analyzing marker: parvalbumin\n",
      "Mann-Whitney U Test Results for parvalbumin: U-statistic = 16858.0000, p-value = 2.7421e-01\n",
      "No significant difference found between as and ss for parvalbumin (p >= 0.05)\n",
      "\n",
      "### Newman-Keuls Test Results (Between Markers) ###\n",
      "\n",
      "ANOVA Table:\n",
      "            sum_sq     df          F        PR(>F)\n",
      "group     0.124609    5.0  24.655838  4.629918e-23\n",
      "Residual  0.769207  761.0        NaN           NaN\n",
      "Significant differences found, performing Newman-Keuls test...\n"
     ]
    },
    {
     "name": "stderr",
     "output_type": "stream",
     "text": [
      "C:\\Users\\PC\\AppData\\Local\\Temp\\ipykernel_3788\\2023851197.py:41: FutureWarning: Series.__getitem__ treating keys as positions is deprecated. In a future version, integer keys will always be treated as labels (consistent with DataFrame behavior). To access a value by position, use `ser.iloc[pos]`\n",
      "  if anova_table['PR(>F)'][0] < 0.05:\n"
     ]
    },
    {
     "name": "stdout",
     "output_type": "stream",
     "text": [
      "        Multiple Comparison of Means - Tukey HSD, FWER=0.05         \n",
      "====================================================================\n",
      "    group1         group2     meandiff p-adj   lower   upper  reject\n",
      "--------------------------------------------------------------------\n",
      "  calbindin_as   calbindin_ss  -0.0374    0.0 -0.0553 -0.0195   True\n",
      "  calbindin_as  calretinin_as  -0.0295    0.0 -0.0417 -0.0172   True\n",
      "  calbindin_as  calretinin_ss  -0.0393    0.0 -0.0628 -0.0157   True\n",
      "  calbindin_as parvalbumin_as   -0.035    0.0 -0.0444 -0.0256   True\n",
      "  calbindin_as parvalbumin_ss  -0.0375    0.0 -0.0509  -0.024   True\n",
      "  calbindin_ss  calretinin_as    0.008 0.8121 -0.0102  0.0261  False\n",
      "  calbindin_ss  calretinin_ss  -0.0018    1.0  -0.029  0.0253  False\n",
      "  calbindin_ss parvalbumin_as   0.0024 0.9983  -0.014  0.0188  False\n",
      "  calbindin_ss parvalbumin_ss     -0.0    1.0  -0.019   0.019  False\n",
      " calretinin_as  calretinin_ss  -0.0098 0.8484 -0.0336   0.014  False\n",
      " calretinin_as parvalbumin_as  -0.0055 0.6145 -0.0156  0.0045  False\n",
      " calretinin_as parvalbumin_ss   -0.008 0.5681 -0.0219  0.0059  False\n",
      " calretinin_ss parvalbumin_as   0.0043 0.9944 -0.0182  0.0267  False\n",
      " calretinin_ss parvalbumin_ss   0.0018 0.9999 -0.0226  0.0262  False\n",
      "parvalbumin_as parvalbumin_ss  -0.0025   0.99 -0.0139   0.009  False\n",
      "--------------------------------------------------------------------\n"
     ]
    }
   ],
   "source": [
    "# Statistics: Synapse Surface area\n",
    "\n",
    "markers = ['calbindin', 'calretinin', 'parvalbumin']\n",
    "\n",
    "# Mann-Whitney U Test: Compare as vs. ss within each marker\n",
    "print(\"### Mann-Whitney U Test Results (Within Markers) ###\\n\")\n",
    "\n",
    "for marker in markers:\n",
    "    print(f'\\nAnalyzing marker: {marker}')\n",
    "    \n",
    "    # Subset the data for the current marker\n",
    "    marker_df = combined_df[combined_df['marker'] == marker]\n",
    "    \n",
    "    # Separate data for 'as' and 'ss'\n",
    "    as_group = marker_df[marker_df['synapse_type'] == 'as']['synapse_surface_area']\n",
    "    ss_group = marker_df[marker_df['synapse_type'] == 'ss']['synapse_surface_area']\n",
    "    \n",
    "    # Perform Mann-Whitney U Test\n",
    "    u_stat, p_value = mannwhitneyu(as_group, ss_group, alternative='two-sided')\n",
    "    \n",
    "    print(f'Mann-Whitney U Test Results for {marker}: U-statistic = {u_stat:.4f}, p-value = {p_value:.4e}')\n",
    "    \n",
    "    if p_value < 0.05:\n",
    "        print(f'Significant difference found between as and ss for {marker} (p < 0.05)')\n",
    "    else:\n",
    "        print(f'No significant difference found between as and ss for {marker} (p >= 0.05)')\n",
    "\n",
    "# Prepare data for Newman-Keuls test\n",
    "print(\"\\n### Newman-Keuls Test Results (Between Markers) ###\\n\")\n",
    "\n",
    "# Combine all data into a single dataframe\n",
    "combined_df['group'] = combined_df['marker'] + \"_\" + combined_df['synapse_type']\n",
    "\n",
    "# Perform ANOVA to check for significant differences between groups\n",
    "model = ols('synapse_surface_area ~ group', data=combined_df).fit()\n",
    "anova_table = sm.stats.anova_lm(model, typ=2)\n",
    "print('ANOVA Table:')\n",
    "print(anova_table)\n",
    "\n",
    "# If ANOVA is significant, perform Newman-Keuls test\n",
    "if anova_table['PR(>F)'][0] < 0.05:\n",
    "    print('Significant differences found, performing Newman-Keuls test...')\n",
    "    \n",
    "    # Perform Newman-Keuls Test using Tukey HSD approximation\n",
    "    mc = MultiComparison(combined_df['synapse_surface_area'], combined_df['group'])\n",
    "    newman_keuls_result = mc.tukeyhsd()  # Tukey's HSD can be used to approximate Newman-Keuls\n",
    "    print(newman_keuls_result.summary())\n",
    "else:\n",
    "    print('No significant differences found in ANOVA. Skipping Newman-Keuls test.')"
   ]
  },
  {
   "cell_type": "code",
   "execution_count": 83,
   "id": "0e967466-bbf4-4242-a44a-04a28deb8695",
   "metadata": {},
   "outputs": [
    {
     "name": "stdout",
     "output_type": "stream",
     "text": [
      "### Mann-Whitney U Test Results (Within Markers) ###\n",
      "\n",
      "\n",
      "Analyzing marker: calbindin\n",
      "Mann-Whitney U Test Results for calbindin: U-statistic = 2267.0000, p-value = 1.7569e-01\n",
      "No significant difference found between as and ss for calbindin (p >= 0.05)\n",
      "\n",
      "Analyzing marker: calretinin\n",
      "Mann-Whitney U Test Results for calretinin: U-statistic = 1198.0000, p-value = 1.2078e-02\n",
      "Significant difference found between as and ss for calretinin (p < 0.05)\n",
      "\n",
      "Analyzing marker: parvalbumin\n",
      "Mann-Whitney U Test Results for parvalbumin: U-statistic = 21917.0000, p-value = 2.9933e-08\n",
      "Significant difference found between as and ss for parvalbumin (p < 0.05)\n",
      "\n",
      "### Newman-Keuls Test Results (Between Markers) ###\n",
      "\n",
      "ANOVA Table:\n",
      "                sum_sq     df          F        PR(>F)\n",
      "group      3019.233822    5.0  28.083728  3.667043e-26\n",
      "Residual  16362.763179  761.0        NaN           NaN\n",
      "Significant differences found, performing Newman-Keuls test...\n"
     ]
    },
    {
     "name": "stderr",
     "output_type": "stream",
     "text": [
      "C:\\Users\\PC\\AppData\\Local\\Temp\\ipykernel_1248\\2207158744.py:43: FutureWarning: Series.__getitem__ treating keys as positions is deprecated. In a future version, integer keys will always be treated as labels (consistent with DataFrame behavior). To access a value by position, use `ser.iloc[pos]`\n",
      "  if anova_table['PR(>F)'][0] < 0.05:\n"
     ]
    },
    {
     "name": "stdout",
     "output_type": "stream",
     "text": [
      "        Multiple Comparison of Means - Tukey HSD, FWER=0.05         \n",
      "====================================================================\n",
      "    group1         group2     meandiff p-adj   lower   upper  reject\n",
      "--------------------------------------------------------------------\n",
      "  calbindin_as   calbindin_ss  -1.1893 0.7831 -3.7957  1.4171  False\n",
      "  calbindin_as  calretinin_as   2.5141 0.0009  0.7265  4.3017   True\n",
      "  calbindin_as  calretinin_ss  -0.2335    1.0 -3.6684  3.2015  False\n",
      "  calbindin_as parvalbumin_as   4.5251    0.0  3.1501  5.9002   True\n",
      "  calbindin_as parvalbumin_ss   1.3843 0.3337 -0.5769  3.3456  False\n",
      "  calbindin_ss  calretinin_as   3.7034  0.001  1.0503  6.3565   True\n",
      "  calbindin_ss  calretinin_ss   0.9559  0.983 -2.9992  4.9109  False\n",
      "  calbindin_ss parvalbumin_as   5.7144    0.0  3.3198  8.1091   True\n",
      "  calbindin_ss parvalbumin_ss   2.5737 0.0865 -0.1994  5.3467  False\n",
      " calretinin_as  calretinin_ss  -2.7475 0.2112 -6.2181   0.723  False\n",
      " calretinin_as parvalbumin_as    2.011 0.0013  0.5493  3.4727   True\n",
      " calretinin_as parvalbumin_ss  -1.1297 0.6018 -3.1527  0.8932  False\n",
      " calretinin_ss parvalbumin_as   4.7586 0.0005  1.4814  8.0357   True\n",
      " calretinin_ss parvalbumin_ss   1.6178 0.7866 -1.9453  5.1809  False\n",
      "parvalbumin_as parvalbumin_ss  -3.1408    0.0 -4.8104 -1.4712   True\n",
      "--------------------------------------------------------------------\n"
     ]
    }
   ],
   "source": [
    "# Rename column to avoid special characters\n",
    "combined_df.rename(columns={'surface_area/volume': 'surface_area_volume_ratio'}, inplace=True)\n",
    "\n",
    "# Statistics: Bouton Surface area / Volume ratio\n",
    "markers = ['calbindin', 'calretinin', 'parvalbumin']\n",
    "\n",
    "# Mann-Whitney U Test: Compare as vs. ss within each marker\n",
    "print(\"### Mann-Whitney U Test Results (Within Markers) ###\\n\")\n",
    "\n",
    "for marker in markers:\n",
    "    print(f'\\nAnalyzing marker: {marker}')\n",
    "    \n",
    "    # Subset the data for the current marker\n",
    "    marker_df = combined_df[combined_df['marker'] == marker]\n",
    "    \n",
    "    # Separate data for 'as' and 'ss'\n",
    "    as_group = marker_df[marker_df['synapse_type'] == 'as']['surface_area_volume_ratio']\n",
    "    ss_group = marker_df[marker_df['synapse_type'] == 'ss']['surface_area_volume_ratio']\n",
    "    \n",
    "    # Perform Mann-Whitney U Test\n",
    "    u_stat, p_value = mannwhitneyu(as_group, ss_group, alternative='two-sided')\n",
    "    \n",
    "    print(f'Mann-Whitney U Test Results for {marker}: U-statistic = {u_stat:.4f}, p-value = {p_value:.4e}')\n",
    "    \n",
    "    if p_value < 0.05:\n",
    "        print(f'Significant difference found between as and ss for {marker} (p < 0.05)')\n",
    "    else:\n",
    "        print(f'No significant difference found between as and ss for {marker} (p >= 0.05)')\n",
    "\n",
    "# Prepare data for Newman-Keuls test\n",
    "print(\"\\n### Newman-Keuls Test Results (Between Markers) ###\\n\")\n",
    "\n",
    "# Combine all data into a single dataframe\n",
    "combined_df['group'] = combined_df['marker'] + \"_\" + combined_df['synapse_type']\n",
    "\n",
    "# Perform ANOVA to check for significant differences between groups\n",
    "model = ols('surface_area_volume_ratio ~ group', data=combined_df).fit()\n",
    "anova_table = sm.stats.anova_lm(model, typ=2)\n",
    "print('ANOVA Table:')\n",
    "print(anova_table)\n",
    "\n",
    "# If ANOVA is significant, perform Newman-Keuls test\n",
    "if anova_table['PR(>F)'][0] < 0.05:\n",
    "    print('Significant differences found, performing Newman-Keuls test...')\n",
    "    \n",
    "    # Perform Newman-Keuls Test using Tukey HSD approximation\n",
    "    mc = MultiComparison(combined_df['surface_area_volume_ratio'], combined_df['group'])\n",
    "    newman_keuls_result = mc.tukeyhsd()  # Tukey's HSD can be used to approximate Newman-Keuls\n",
    "    print(newman_keuls_result.summary())\n",
    "else:\n",
    "    print('No significant differences found in ANOVA. Skipping Newman-Keuls test.')"
   ]
  },
  {
   "cell_type": "code",
   "execution_count": 122,
   "id": "c484184d-5e31-4ec3-9cb9-613d44cb4f3e",
   "metadata": {},
   "outputs": [
    {
     "data": {
      "image/png": "[encoded data removed]",
      "text/plain": [
       "<Figure size 1500x500 with 3 Axes>"
      ]
     },
     "metadata": {},
     "output_type": "display_data"
    }
   ],
   "source": [
    "# Define the bin edges for consistent binning across all histograms\n",
    "bins = list(range(0, 230, 10))\n",
    "\n",
    "# Set the global font properties for tick labels\n",
    "plt.rc('font', family='Cambria')  \n",
    "\n",
    "# Set up the subplots\n",
    "fig, axes = plt.subplots(1, 3, figsize=(15, 5), sharey=True)\n",
    "\n",
    "# Plotting histograms with KDE for each marker\n",
    "sns.histplot(calbindin_df['synapse_distance_from_soma'], bins=bins, color='#AD07E3', kde=True, ax=axes[0])\n",
    "axes[0].set_title('Calbindin', fontsize=22, fontweight='bold', family='Cambria')\n",
    "axes[0].set_xlabel('Synapse Distance from Soma (micron)', fontsize=18, fontweight='bold', family='Cambria')\n",
    "axes[0].set_ylabel('Synapse Number', fontsize=18, fontweight='bold', family='Cambria')\n",
    "axes[0].tick_params(axis='both', which='major', labelsize=14, labelcolor='black')\n",
    "\n",
    "sns.histplot(calretinin_df['synapse_distance_from_soma'], bins=bins, color='darkorange', kde=True, ax=axes[1])\n",
    "axes[1].set_title('Calretinin', fontsize=22, fontweight='bold', family='Cambria')\n",
    "axes[1].set_xlabel('Synapse Distance from Soma (micron)', fontsize=18, fontweight='bold', family='Cambria')\n",
    "axes[1].tick_params(axis='both', which='major', labelsize=14, labelcolor='black')\n",
    "\n",
    "sns.histplot(parvalbumin_df['synapse_distance_from_soma'], bins=bins, color='#00C000', kde=True, ax=axes[2])\n",
    "axes[2].set_title('Parvalbumin', fontsize=22, fontweight='bold', family='Cambria')\n",
    "axes[2].set_xlabel('Synapse Distance from Soma (micron)', fontsize=18, fontweight='bold', family='Cambria')\n",
    "axes[2].tick_params(axis='both', which='major', labelsize=14, labelcolor='black')\n",
    "\n",
    "# Adjust layout for better visibility\n",
    "plt.tight_layout()\n",
    "plt.savefig('synapse_full_histoplot.jpg', dpi=300, transparent=True, bbox_inches='tight')\n",
    "plt.show()"
   ]
  },
  {
   "cell_type": "code",
   "execution_count": 121,
   "id": "998f8340-e1a4-43de-a4fc-a619559085e2",
   "metadata": {},
   "outputs": [
    {
     "data": {
      "image/png": "[encoded data removed]",
      "text/plain": [
       "<Figure size 1500x500 with 3 Axes>"
      ]
     },
     "metadata": {},
     "output_type": "display_data"
    }
   ],
   "source": [
    "# Define the bin edges for consistent binning across all histograms\n",
    "bins = list(range(0, 230, 10))\n",
    "\n",
    "# Set the global font properties for tick labels\n",
    "plt.rc('font', family='Cambria')  \n",
    "\n",
    "# Filter dataframes to include only rows where synapse_type is 'ss'\n",
    "calbindin_ss = calbindin_df[calbindin_df['synapse_type'] == 'ss']\n",
    "calretinin_ss = calretinin_df[calretinin_df['synapse_type'] == 'ss']\n",
    "parvalbumin_ss = parvalbumin_df[parvalbumin_df['synapse_type'] == 'ss']\n",
    "\n",
    "# Set up the subplots\n",
    "fig, axes = plt.subplots(1, 3, figsize=(15, 5), sharey=True)\n",
    "\n",
    "# Plotting histograms with KDE for each marker filtered by 'ss' synapse type\n",
    "sns.histplot(\n",
    "    calbindin_ss['synapse_distance_from_soma'], \n",
    "    bins=bins, color='#C878E6', kde=True, \n",
    "    line_kws={'color': '#AD07E3', 'linewidth': 2},  \n",
    "    ax=axes[0]\n",
    ")\n",
    "axes[0].set_title('Calbindin Inhibitory Synapses', fontsize=22, fontweight='bold', family='Cambria')\n",
    "axes[0].set_xlabel('Synapse Distance from Soma (micron)', fontsize=18, fontweight='bold', family='Cambria')\n",
    "axes[0].set_ylabel('Synapse Number', fontsize=18, fontweight='bold', family='Cambria')\n",
    "axes[0].tick_params(axis='both', which='major', labelsize=14, labelcolor='black')\n",
    "\n",
    "sns.histplot(\n",
    "    calretinin_ss['synapse_distance_from_soma'], \n",
    "    bins=bins, color='navajowhite', kde=True, \n",
    "    line_kws={'color': 'darkorange', 'linewidth': 2},  \n",
    "    ax=axes[1]\n",
    ")\n",
    "axes[1].set_title('Calretinin Inhibitory Synapses', fontsize=22, fontweight='bold', family='Cambria')\n",
    "axes[1].set_xlabel('Synapse Distance from Soma (micron)', fontsize=18, fontweight='bold', family='Cambria')\n",
    "axes[1].tick_params(axis='both', which='major', labelsize=14, labelcolor='black')\n",
    "\n",
    "sns.histplot(\n",
    "    parvalbumin_ss['synapse_distance_from_soma'], \n",
    "    bins=bins, color='palegreen', kde=True, \n",
    "    line_kws={'color': '#00C000', 'linewidth': 2}, \n",
    "    ax=axes[2]\n",
    ")\n",
    "axes[2].set_title('Parvalbumin Inhibitory Synapses', fontsize=22, fontweight='bold', family='Cambria')\n",
    "axes[2].set_xlabel('Synapse Distance from Soma (micron)', fontsize=18, fontweight='bold', family='Cambria')\n",
    "axes[2].tick_params(axis='both', which='major', labelsize=14, labelcolor='black')\n",
    "\n",
    "# Adjust layout for better visibility\n",
    "plt.tight_layout()\n",
    "plt.savefig('synapse_ss_histoplot.jpg', dpi=300, transparent=True, bbox_inches='tight')\n",
    "plt.show()"
   ]
  },
  {
   "cell_type": "code",
   "execution_count": 120,
   "id": "6d7fad06-9917-43e3-85ea-c65e87090f5e",
   "metadata": {},
   "outputs": [
    {
     "data": {
      "image/png": "[encoded data removed]",
      "text/plain": [
       "<Figure size 1500x500 with 3 Axes>"
      ]
     },
     "metadata": {},
     "output_type": "display_data"
    }
   ],
   "source": [
    "# Define the bin edges for consistent binning across all histograms\n",
    "bins = list(range(0, 230, 10))\n",
    "\n",
    "# Set the global font properties for tick labels\n",
    "plt.rc('font', family='Cambria')  \n",
    "\n",
    "# Filter dataframes to include only rows where synapse_type is 'ss'\n",
    "calbindin_ss = calbindin_df[calbindin_df['synapse_type'] == 'as']\n",
    "calretinin_ss = calretinin_df[calretinin_df['synapse_type'] == 'as']\n",
    "parvalbumin_ss = parvalbumin_df[parvalbumin_df['synapse_type'] == 'as']\n",
    "\n",
    "# Set up the subplots\n",
    "fig, axes = plt.subplots(1, 3, figsize=(15, 5), sharey=True)\n",
    "\n",
    "# Plotting histograms with KDE for each marker filtered by 'ss' synapse type\n",
    "sns.histplot(\n",
    "    calbindin_ss['synapse_distance_from_soma'], \n",
    "    bins=bins, color='#AD07E3', kde=True, \n",
    "    line_kws={'color': '#AD07E3', 'linewidth': 2},  \n",
    "    ax=axes[0]\n",
    ")\n",
    "axes[0].set_title('Calbindin Excitatory Synapses', fontsize=22, fontweight='bold', family='Cambria')\n",
    "axes[0].set_xlabel('Synapse Distance from Soma (micron)', fontsize=18, fontweight='bold', family='Cambria')\n",
    "axes[0].set_ylabel('Synapse Number', fontsize=18, fontweight='bold', family='Cambria')\n",
    "axes[0].tick_params(axis='both', which='major', labelsize=14, labelcolor='black')\n",
    "\n",
    "sns.histplot(\n",
    "    calretinin_ss['synapse_distance_from_soma'], \n",
    "    bins=bins, color='darkorange', kde=True, \n",
    "    line_kws={'color': 'darkorange', 'linewidth': 2},  \n",
    "    ax=axes[1]\n",
    ")\n",
    "axes[1].set_title('Calretinin Excitatory Synapses', fontsize=22, fontweight='bold', family='Cambria')\n",
    "axes[1].set_xlabel('Synapse Distance from Soma (micron)', fontsize=18, fontweight='bold', family='Cambria')\n",
    "axes[1].tick_params(axis='both', which='major', labelsize=14, labelcolor='black')\n",
    "\n",
    "sns.histplot(\n",
    "    parvalbumin_ss['synapse_distance_from_soma'], \n",
    "    bins=bins, color='#00C000', kde=True, \n",
    "    line_kws={'color': '#00C000', 'linewidth': 2},  \n",
    "    ax=axes[2]\n",
    ")\n",
    "axes[2].set_title('Parvalbumin Excitatory Synapses', fontsize=22, fontweight='bold', family='Cambria')\n",
    "axes[2].set_xlabel('Synapse Distance from Soma (micron)', fontsize=18, fontweight='bold', family='Cambria')\n",
    "axes[2].tick_params(axis='both', which='major', labelsize=14, labelcolor='black')\n",
    "\n",
    "# Adjust layout for better visibility\n",
    "plt.tight_layout()\n",
    "plt.savefig('synapse_as_histoplot.jpg', dpi=300, transparent=True, bbox_inches='tight')\n",
    "plt.show()"
   ]
  },
  {
   "cell_type": "code",
   "execution_count": 118,
   "id": "914d8adf-2468-42f8-ba5c-be348e569458",
   "metadata": {},
   "outputs": [
    {
     "name": "stdout",
     "output_type": "stream",
     "text": [
      "### Mann-Whitney U Test Results (Within Markers) ###\n",
      "\n",
      "\n",
      "Analyzing marker: calbindin\n",
      "Mann-Whitney U Test Results for calbindin: U-statistic = 2126.0000, p-value = 4.6907e-01\n",
      "No significant difference found between as and ss for calbindin (p >= 0.05)\n",
      "\n",
      "Analyzing marker: calretinin\n",
      "Mann-Whitney U Test Results for calretinin: U-statistic = 967.0000, p-value = 4.4988e-01\n",
      "No significant difference found between as and ss for calretinin (p >= 0.05)\n",
      "\n",
      "Analyzing marker: parvalbumin\n",
      "Mann-Whitney U Test Results for parvalbumin: U-statistic = 18988.0000, p-value = 3.0137e-03\n",
      "Significant difference found between as and ss for parvalbumin (p < 0.05)\n",
      "\n",
      "### Newman-Keuls Test Results (Between Markers) ###\n",
      "\n",
      "ANOVA Table:\n",
      "                sum_sq     df          F        PR(>F)\n",
      "group     3.385853e+05    5.0  28.542369  1.423007e-26\n",
      "Residual  1.805480e+06  761.0        NaN           NaN\n",
      "Significant differences found, performing Newman-Keuls test...\n"
     ]
    },
    {
     "name": "stderr",
     "output_type": "stream",
     "text": [
      "C:\\Users\\PC\\AppData\\Local\\Temp\\ipykernel_1248\\2270591365.py:41: FutureWarning: Series.__getitem__ treating keys as positions is deprecated. In a future version, integer keys will always be treated as labels (consistent with DataFrame behavior). To access a value by position, use `ser.iloc[pos]`\n",
      "  if anova_table['PR(>F)'][0] < 0.05:\n"
     ]
    },
    {
     "name": "stdout",
     "output_type": "stream",
     "text": [
      "         Multiple Comparison of Means - Tukey HSD, FWER=0.05         \n",
      "=====================================================================\n",
      "    group1         group2     meandiff p-adj   lower    upper  reject\n",
      "---------------------------------------------------------------------\n",
      "  calbindin_as   calbindin_ss  -5.2464 0.9941 -32.6246 22.1318  False\n",
      "  calbindin_as  calretinin_as -28.0339 0.0003 -46.8113 -9.2565   True\n",
      "  calbindin_as  calretinin_ss -30.4082 0.1547 -66.4897  5.6733  False\n",
      "  calbindin_as parvalbumin_as  28.6734    0.0  14.2296 43.1173   True\n",
      "  calbindin_as parvalbumin_ss  10.0663 0.7295 -10.5353  30.668  False\n",
      "  calbindin_ss  calretinin_as -22.7875 0.1809 -50.6566  5.0816  False\n",
      "  calbindin_ss  calretinin_ss -25.1618  0.512 -66.7066 16.3831  False\n",
      "  calbindin_ss parvalbumin_as  33.9199 0.0018   8.7659 59.0738   True\n",
      "  calbindin_ss parvalbumin_ss  15.3128 0.6632 -13.8167 44.4422  False\n",
      " calretinin_as  calretinin_ss  -2.3743    1.0 -38.8297 34.0812  False\n",
      " calretinin_as parvalbumin_as  56.7073    0.0  41.3533 72.0614   True\n",
      " calretinin_as parvalbumin_ss  38.1002    0.0  16.8505   59.35   True\n",
      " calretinin_ss parvalbumin_as  59.0816    0.0  24.6573 93.5059   True\n",
      " calretinin_ss parvalbumin_ss  40.4745 0.0253   3.0468 77.9023   True\n",
      "parvalbumin_as parvalbumin_ss -18.6071 0.0302 -36.1452  -1.069   True\n",
      "---------------------------------------------------------------------\n"
     ]
    }
   ],
   "source": [
    "# Statistics: Synapse Distance from Soma \n",
    "\n",
    "markers = ['calbindin', 'calretinin', 'parvalbumin']\n",
    "\n",
    "# Mann-Whitney U Test: Compare as vs. ss within each marker\n",
    "print(\"### Mann-Whitney U Test Results (Within Markers) ###\\n\")\n",
    "\n",
    "for marker in markers:\n",
    "    print(f'\\nAnalyzing marker: {marker}')\n",
    "    \n",
    "    # Subset the data for the current marker\n",
    "    marker_df = combined_df[combined_df['marker'] == marker]\n",
    "    \n",
    "    # Separate data for 'as' and 'ss'\n",
    "    as_group = marker_df[marker_df['synapse_type'] == 'as']['synapse_distance_from_soma']\n",
    "    ss_group = marker_df[marker_df['synapse_type'] == 'ss']['synapse_distance_from_soma']\n",
    "    \n",
    "    # Perform Mann-Whitney U Test\n",
    "    u_stat, p_value = mannwhitneyu(as_group, ss_group, alternative='two-sided')\n",
    "    \n",
    "    print(f'Mann-Whitney U Test Results for {marker}: U-statistic = {u_stat:.4f}, p-value = {p_value:.4e}')\n",
    "    \n",
    "    if p_value < 0.05:\n",
    "        print(f'Significant difference found between as and ss for {marker} (p < 0.05)')\n",
    "    else:\n",
    "        print(f'No significant difference found between as and ss for {marker} (p >= 0.05)')\n",
    "\n",
    "# Prepare data for Newman-Keuls test\n",
    "print(\"\\n### Newman-Keuls Test Results (Between Markers) ###\\n\")\n",
    "\n",
    "# Combine all data into a single dataframe\n",
    "combined_df['group'] = combined_df['marker'] + \"_\" + combined_df['synapse_type']\n",
    "\n",
    "# Perform ANOVA to check for significant differences between groups\n",
    "model = ols('synapse_distance_from_soma ~ group', data=combined_df).fit()\n",
    "anova_table = sm.stats.anova_lm(model, typ=2)\n",
    "print('ANOVA Table:')\n",
    "print(anova_table)\n",
    "\n",
    "# If ANOVA is significant, perform Newman-Keuls test\n",
    "if anova_table['PR(>F)'][0] < 0.05:\n",
    "    print('Significant differences found, performing Newman-Keuls test...')\n",
    "    \n",
    "    # Perform Newman-Keuls Test using Tukey HSD approximation\n",
    "    mc = MultiComparison(combined_df['synapse_distance_from_soma'], combined_df['group'])\n",
    "    newman_keuls_result = mc.tukeyhsd()  # Tukey's HSD can be used to approximate Newman-Keuls\n",
    "    print(newman_keuls_result.summary())\n",
    "else:\n",
    "    print('No significant differences found in ANOVA. Skipping Newman-Keuls test.')"
   ]
  }
 ],
 "metadata": {
  "kernelspec": {
   "display_name": "Python 3 (ipykernel)",
   "language": "python",
   "name": "python3"
  },
  "language_info": {
   "codemirror_mode": {
    "name": "ipython",
    "version": 3
   },
   "file_extension": ".py",
   "mimetype": "text/x-python",
   "name": "python",
   "nbconvert_exporter": "python",
   "pygments_lexer": "ipython3",
   "version": "3.12.4"
  }
 },
 "nbformat": 4,
 "nbformat_minor": 5
}
